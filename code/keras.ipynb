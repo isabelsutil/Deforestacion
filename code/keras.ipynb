{
  "cells": [
    {
      "cell_type": "markdown",
      "metadata": {
        "id": "dKAaJ8UemqsU"
      },
      "source": [
        "# Image Multiclassification with Keras: Planet understanding the amazon from space"
      ]
    },
    {
      "cell_type": "markdown",
      "metadata": {
        "id": "Pp0Nffe-mqsb"
      },
      "source": [
        "En este notebook se encuentra el código del modelo realizado utilizando las funciones de la librería Keras de Tensorflow. Además de realizar un modelo multiclasificatorio, otro objetivo es utilizar la librería keras para crear un modelo de redes neuronares convolucionales de cero, es decir, sin utilizar un modelo preentrenado.\n",
        " Primero se han procesado y preparado los datos. Despues, se ha definido el arquitectura que va a tener el modelo. A continuación, se ha entrenado el modelo con nuestro dataset. Y, por último se ha realizado la evaluación."
      ]
    },
    {
      "cell_type": "markdown",
      "metadata": {
        "id": "0O0ZQqVEmqsb"
      },
      "source": [
        "## IMPORTS:"
      ]
    },
    {
      "cell_type": "code",
      "execution_count": 1,
      "metadata": {
        "id": "1EW5zYWHE-He"
      },
      "outputs": [],
      "source": [
        "import tensorflow.keras\n",
        "#keras.__version__\n",
        "import tensorflow as tf\n",
        "from sklearn.model_selection import train_test_split\n",
        "from keras.callbacks import ModelCheckpoint, EarlyStopping, ReduceLROnPlateau, History\n",
        "import pandas as pd\n",
        "import tqdm\n",
        "import numpy as np\n",
        "#import cv2\n",
        "from keras.layers import BatchNormalization\n",
        "from keras.layers import Conv2D, MaxPooling2D\n",
        "from keras import models\n",
        "from keras import layers\n",
        "from tensorflow.keras.applications import resnet\n",
        "from tqdm import tqdm\n",
        "import os\n",
        "from matplotlib import pyplot as plt"
      ]
    },
    {
      "cell_type": "code",
      "source": [
        "from google.colab import drive\n",
        "drive.mount('/content/drive')"
      ],
      "metadata": {
        "colab": {
          "base_uri": "https://localhost:8080/"
        },
        "id": "k3XqlkJenhYC",
        "outputId": "18d1b8b6-e00c-4c72-e812-acda6afc4519"
      },
      "execution_count": 2,
      "outputs": [
        {
          "output_type": "stream",
          "name": "stdout",
          "text": [
            "Mounted at /content/drive\n"
          ]
        }
      ]
    },
    {
      "cell_type": "markdown",
      "metadata": {
        "id": "Fnh05m0dmqse"
      },
      "source": [
        "## Procesamiento de datos:"
      ]
    },
    {
      "cell_type": "markdown",
      "metadata": {
        "id": "-UXRwg-Bmqse"
      },
      "source": [
        "Se han tenido bastantes problemas a la hora de procesar los datos debido a como estaban estructurados y porque nosotros teníamos un problema de multiclasificación. \n",
        "\n",
        "Como se ha comentado anteriormente en el análisis exploratorio, se tenía un csv que contenía una columna con el nombre de las imágenes y otra con los levels. \n",
        "\n",
        "Para adaptar las especificaciones de los argumentos de la función de Keras que generaba y procesaba \n",
        "**(train_datagen.flow_from_dataframe)** se ha tenido que cambiar el csv de train."
      ]
    },
    {
      "cell_type": "markdown",
      "source": [
        "(Si quieres adaptar el codigo a tu directorio edita la siguiente ruta)"
      ],
      "metadata": {
        "id": "ooxZvZv8oOnK"
      }
    },
    {
      "cell_type": "code",
      "source": [
        "%cd /content/drive/MyDrive/datos_no_est/PRACTICA_IMAGE"
      ],
      "metadata": {
        "colab": {
          "base_uri": "https://localhost:8080/"
        },
        "id": "m3AEKhwDn9p-",
        "outputId": "b31f9722-432c-4be8-b7b7-38175c4e1b30"
      },
      "execution_count": 2,
      "outputs": [
        {
          "output_type": "stream",
          "name": "stdout",
          "text": [
            "/content/drive/MyDrive/datos_no_est/PRACTICA_IMAGE\n"
          ]
        }
      ]
    },
    {
      "cell_type": "code",
      "execution_count": 4,
      "metadata": {
        "id": "Ludn-h08mqsf"
      },
      "outputs": [],
      "source": [
        "train = pd.read_csv(\"data/csv_tags/train_v2.csv\")"
      ]
    },
    {
      "cell_type": "code",
      "execution_count": 5,
      "metadata": {
        "id": "Gci-S1jPmqsg"
      },
      "outputs": [],
      "source": [
        "train['tags'] = train['tags'].str.split(' ')"
      ]
    },
    {
      "cell_type": "code",
      "execution_count": 6,
      "metadata": {
        "id": "9YWqzsLZmqsh"
      },
      "outputs": [],
      "source": [
        "TAGS = [\n",
        "    \"agriculture\",\n",
        "    \"artisinal_mine\",\n",
        "    \"bare_ground\",\n",
        "    \"blooming\",\n",
        "    \"blow_down\",\n",
        "    \"clear\",\n",
        "    \"cloudy\",\n",
        "    \"conventional_mine\",\n",
        "    \"cultivation\",\n",
        "    \"habitation\",\n",
        "    \"haze\",\n",
        "    \"partly_cloudy\",\n",
        "    \"primary\",\n",
        "    \"road\",\n",
        "    \"selective_logging\",\n",
        "    \"slash_burn\",\n",
        "    \"water\",\n",
        "]"
      ]
    },
    {
      "cell_type": "code",
      "source": [
        "for t in TAGS:\n",
        "  train[t]=0"
      ],
      "metadata": {
        "id": "C0K5BxCSpkpQ"
      },
      "execution_count": 7,
      "outputs": []
    },
    {
      "cell_type": "code",
      "source": [
        "train"
      ],
      "metadata": {
        "colab": {
          "base_uri": "https://localhost:8080/",
          "height": 782
        },
        "id": "8DbykKWoo1Xn",
        "outputId": "c37a45a8-9e10-44f3-f74f-3e3aae2a995e"
      },
      "execution_count": 8,
      "outputs": [
        {
          "output_type": "execute_result",
          "data": {
            "text/plain": [
              "        image_name                                               tags  \\\n",
              "0          train_0                                    [haze, primary]   \n",
              "1          train_1               [agriculture, clear, primary, water]   \n",
              "2          train_2                                   [clear, primary]   \n",
              "3          train_3                                   [clear, primary]   \n",
              "4          train_4    [agriculture, clear, habitation, primary, road]   \n",
              "...            ...                                                ...   \n",
              "40474  train_40474                                   [clear, primary]   \n",
              "40475  train_40475                                           [cloudy]   \n",
              "40476  train_40476                      [agriculture, clear, primary]   \n",
              "40477  train_40477                [agriculture, clear, primary, road]   \n",
              "40478  train_40478  [agriculture, cultivation, partly_cloudy, prim...   \n",
              "\n",
              "       agriculture  artisinal_mine  bare_ground  blooming  blow_down  clear  \\\n",
              "0                0               0            0         0          0      0   \n",
              "1                0               0            0         0          0      0   \n",
              "2                0               0            0         0          0      0   \n",
              "3                0               0            0         0          0      0   \n",
              "4                0               0            0         0          0      0   \n",
              "...            ...             ...          ...       ...        ...    ...   \n",
              "40474            0               0            0         0          0      0   \n",
              "40475            0               0            0         0          0      0   \n",
              "40476            0               0            0         0          0      0   \n",
              "40477            0               0            0         0          0      0   \n",
              "40478            0               0            0         0          0      0   \n",
              "\n",
              "       cloudy  conventional_mine  cultivation  habitation  haze  \\\n",
              "0           0                  0            0           0     0   \n",
              "1           0                  0            0           0     0   \n",
              "2           0                  0            0           0     0   \n",
              "3           0                  0            0           0     0   \n",
              "4           0                  0            0           0     0   \n",
              "...       ...                ...          ...         ...   ...   \n",
              "40474       0                  0            0           0     0   \n",
              "40475       0                  0            0           0     0   \n",
              "40476       0                  0            0           0     0   \n",
              "40477       0                  0            0           0     0   \n",
              "40478       0                  0            0           0     0   \n",
              "\n",
              "       partly_cloudy  primary  road  selective_logging  slash_burn  water  \n",
              "0                  0        0     0                  0           0      0  \n",
              "1                  0        0     0                  0           0      0  \n",
              "2                  0        0     0                  0           0      0  \n",
              "3                  0        0     0                  0           0      0  \n",
              "4                  0        0     0                  0           0      0  \n",
              "...              ...      ...   ...                ...         ...    ...  \n",
              "40474              0        0     0                  0           0      0  \n",
              "40475              0        0     0                  0           0      0  \n",
              "40476              0        0     0                  0           0      0  \n",
              "40477              0        0     0                  0           0      0  \n",
              "40478              0        0     0                  0           0      0  \n",
              "\n",
              "[40479 rows x 19 columns]"
            ],
            "text/html": [
              "\n",
              "  <div id=\"df-9bcbfb81-fc60-4cdf-bad6-f68f5cdabfa5\">\n",
              "    <div class=\"colab-df-container\">\n",
              "      <div>\n",
              "<style scoped>\n",
              "    .dataframe tbody tr th:only-of-type {\n",
              "        vertical-align: middle;\n",
              "    }\n",
              "\n",
              "    .dataframe tbody tr th {\n",
              "        vertical-align: top;\n",
              "    }\n",
              "\n",
              "    .dataframe thead th {\n",
              "        text-align: right;\n",
              "    }\n",
              "</style>\n",
              "<table border=\"1\" class=\"dataframe\">\n",
              "  <thead>\n",
              "    <tr style=\"text-align: right;\">\n",
              "      <th></th>\n",
              "      <th>image_name</th>\n",
              "      <th>tags</th>\n",
              "      <th>agriculture</th>\n",
              "      <th>artisinal_mine</th>\n",
              "      <th>bare_ground</th>\n",
              "      <th>blooming</th>\n",
              "      <th>blow_down</th>\n",
              "      <th>clear</th>\n",
              "      <th>cloudy</th>\n",
              "      <th>conventional_mine</th>\n",
              "      <th>cultivation</th>\n",
              "      <th>habitation</th>\n",
              "      <th>haze</th>\n",
              "      <th>partly_cloudy</th>\n",
              "      <th>primary</th>\n",
              "      <th>road</th>\n",
              "      <th>selective_logging</th>\n",
              "      <th>slash_burn</th>\n",
              "      <th>water</th>\n",
              "    </tr>\n",
              "  </thead>\n",
              "  <tbody>\n",
              "    <tr>\n",
              "      <th>0</th>\n",
              "      <td>train_0</td>\n",
              "      <td>[haze, primary]</td>\n",
              "      <td>0</td>\n",
              "      <td>0</td>\n",
              "      <td>0</td>\n",
              "      <td>0</td>\n",
              "      <td>0</td>\n",
              "      <td>0</td>\n",
              "      <td>0</td>\n",
              "      <td>0</td>\n",
              "      <td>0</td>\n",
              "      <td>0</td>\n",
              "      <td>0</td>\n",
              "      <td>0</td>\n",
              "      <td>0</td>\n",
              "      <td>0</td>\n",
              "      <td>0</td>\n",
              "      <td>0</td>\n",
              "      <td>0</td>\n",
              "    </tr>\n",
              "    <tr>\n",
              "      <th>1</th>\n",
              "      <td>train_1</td>\n",
              "      <td>[agriculture, clear, primary, water]</td>\n",
              "      <td>0</td>\n",
              "      <td>0</td>\n",
              "      <td>0</td>\n",
              "      <td>0</td>\n",
              "      <td>0</td>\n",
              "      <td>0</td>\n",
              "      <td>0</td>\n",
              "      <td>0</td>\n",
              "      <td>0</td>\n",
              "      <td>0</td>\n",
              "      <td>0</td>\n",
              "      <td>0</td>\n",
              "      <td>0</td>\n",
              "      <td>0</td>\n",
              "      <td>0</td>\n",
              "      <td>0</td>\n",
              "      <td>0</td>\n",
              "    </tr>\n",
              "    <tr>\n",
              "      <th>2</th>\n",
              "      <td>train_2</td>\n",
              "      <td>[clear, primary]</td>\n",
              "      <td>0</td>\n",
              "      <td>0</td>\n",
              "      <td>0</td>\n",
              "      <td>0</td>\n",
              "      <td>0</td>\n",
              "      <td>0</td>\n",
              "      <td>0</td>\n",
              "      <td>0</td>\n",
              "      <td>0</td>\n",
              "      <td>0</td>\n",
              "      <td>0</td>\n",
              "      <td>0</td>\n",
              "      <td>0</td>\n",
              "      <td>0</td>\n",
              "      <td>0</td>\n",
              "      <td>0</td>\n",
              "      <td>0</td>\n",
              "    </tr>\n",
              "    <tr>\n",
              "      <th>3</th>\n",
              "      <td>train_3</td>\n",
              "      <td>[clear, primary]</td>\n",
              "      <td>0</td>\n",
              "      <td>0</td>\n",
              "      <td>0</td>\n",
              "      <td>0</td>\n",
              "      <td>0</td>\n",
              "      <td>0</td>\n",
              "      <td>0</td>\n",
              "      <td>0</td>\n",
              "      <td>0</td>\n",
              "      <td>0</td>\n",
              "      <td>0</td>\n",
              "      <td>0</td>\n",
              "      <td>0</td>\n",
              "      <td>0</td>\n",
              "      <td>0</td>\n",
              "      <td>0</td>\n",
              "      <td>0</td>\n",
              "    </tr>\n",
              "    <tr>\n",
              "      <th>4</th>\n",
              "      <td>train_4</td>\n",
              "      <td>[agriculture, clear, habitation, primary, road]</td>\n",
              "      <td>0</td>\n",
              "      <td>0</td>\n",
              "      <td>0</td>\n",
              "      <td>0</td>\n",
              "      <td>0</td>\n",
              "      <td>0</td>\n",
              "      <td>0</td>\n",
              "      <td>0</td>\n",
              "      <td>0</td>\n",
              "      <td>0</td>\n",
              "      <td>0</td>\n",
              "      <td>0</td>\n",
              "      <td>0</td>\n",
              "      <td>0</td>\n",
              "      <td>0</td>\n",
              "      <td>0</td>\n",
              "      <td>0</td>\n",
              "    </tr>\n",
              "    <tr>\n",
              "      <th>...</th>\n",
              "      <td>...</td>\n",
              "      <td>...</td>\n",
              "      <td>...</td>\n",
              "      <td>...</td>\n",
              "      <td>...</td>\n",
              "      <td>...</td>\n",
              "      <td>...</td>\n",
              "      <td>...</td>\n",
              "      <td>...</td>\n",
              "      <td>...</td>\n",
              "      <td>...</td>\n",
              "      <td>...</td>\n",
              "      <td>...</td>\n",
              "      <td>...</td>\n",
              "      <td>...</td>\n",
              "      <td>...</td>\n",
              "      <td>...</td>\n",
              "      <td>...</td>\n",
              "      <td>...</td>\n",
              "    </tr>\n",
              "    <tr>\n",
              "      <th>40474</th>\n",
              "      <td>train_40474</td>\n",
              "      <td>[clear, primary]</td>\n",
              "      <td>0</td>\n",
              "      <td>0</td>\n",
              "      <td>0</td>\n",
              "      <td>0</td>\n",
              "      <td>0</td>\n",
              "      <td>0</td>\n",
              "      <td>0</td>\n",
              "      <td>0</td>\n",
              "      <td>0</td>\n",
              "      <td>0</td>\n",
              "      <td>0</td>\n",
              "      <td>0</td>\n",
              "      <td>0</td>\n",
              "      <td>0</td>\n",
              "      <td>0</td>\n",
              "      <td>0</td>\n",
              "      <td>0</td>\n",
              "    </tr>\n",
              "    <tr>\n",
              "      <th>40475</th>\n",
              "      <td>train_40475</td>\n",
              "      <td>[cloudy]</td>\n",
              "      <td>0</td>\n",
              "      <td>0</td>\n",
              "      <td>0</td>\n",
              "      <td>0</td>\n",
              "      <td>0</td>\n",
              "      <td>0</td>\n",
              "      <td>0</td>\n",
              "      <td>0</td>\n",
              "      <td>0</td>\n",
              "      <td>0</td>\n",
              "      <td>0</td>\n",
              "      <td>0</td>\n",
              "      <td>0</td>\n",
              "      <td>0</td>\n",
              "      <td>0</td>\n",
              "      <td>0</td>\n",
              "      <td>0</td>\n",
              "    </tr>\n",
              "    <tr>\n",
              "      <th>40476</th>\n",
              "      <td>train_40476</td>\n",
              "      <td>[agriculture, clear, primary]</td>\n",
              "      <td>0</td>\n",
              "      <td>0</td>\n",
              "      <td>0</td>\n",
              "      <td>0</td>\n",
              "      <td>0</td>\n",
              "      <td>0</td>\n",
              "      <td>0</td>\n",
              "      <td>0</td>\n",
              "      <td>0</td>\n",
              "      <td>0</td>\n",
              "      <td>0</td>\n",
              "      <td>0</td>\n",
              "      <td>0</td>\n",
              "      <td>0</td>\n",
              "      <td>0</td>\n",
              "      <td>0</td>\n",
              "      <td>0</td>\n",
              "    </tr>\n",
              "    <tr>\n",
              "      <th>40477</th>\n",
              "      <td>train_40477</td>\n",
              "      <td>[agriculture, clear, primary, road]</td>\n",
              "      <td>0</td>\n",
              "      <td>0</td>\n",
              "      <td>0</td>\n",
              "      <td>0</td>\n",
              "      <td>0</td>\n",
              "      <td>0</td>\n",
              "      <td>0</td>\n",
              "      <td>0</td>\n",
              "      <td>0</td>\n",
              "      <td>0</td>\n",
              "      <td>0</td>\n",
              "      <td>0</td>\n",
              "      <td>0</td>\n",
              "      <td>0</td>\n",
              "      <td>0</td>\n",
              "      <td>0</td>\n",
              "      <td>0</td>\n",
              "    </tr>\n",
              "    <tr>\n",
              "      <th>40478</th>\n",
              "      <td>train_40478</td>\n",
              "      <td>[agriculture, cultivation, partly_cloudy, prim...</td>\n",
              "      <td>0</td>\n",
              "      <td>0</td>\n",
              "      <td>0</td>\n",
              "      <td>0</td>\n",
              "      <td>0</td>\n",
              "      <td>0</td>\n",
              "      <td>0</td>\n",
              "      <td>0</td>\n",
              "      <td>0</td>\n",
              "      <td>0</td>\n",
              "      <td>0</td>\n",
              "      <td>0</td>\n",
              "      <td>0</td>\n",
              "      <td>0</td>\n",
              "      <td>0</td>\n",
              "      <td>0</td>\n",
              "      <td>0</td>\n",
              "    </tr>\n",
              "  </tbody>\n",
              "</table>\n",
              "<p>40479 rows × 19 columns</p>\n",
              "</div>\n",
              "      <button class=\"colab-df-convert\" onclick=\"convertToInteractive('df-9bcbfb81-fc60-4cdf-bad6-f68f5cdabfa5')\"\n",
              "              title=\"Convert this dataframe to an interactive table.\"\n",
              "              style=\"display:none;\">\n",
              "        \n",
              "  <svg xmlns=\"http://www.w3.org/2000/svg\" height=\"24px\"viewBox=\"0 0 24 24\"\n",
              "       width=\"24px\">\n",
              "    <path d=\"M0 0h24v24H0V0z\" fill=\"none\"/>\n",
              "    <path d=\"M18.56 5.44l.94 2.06.94-2.06 2.06-.94-2.06-.94-.94-2.06-.94 2.06-2.06.94zm-11 1L8.5 8.5l.94-2.06 2.06-.94-2.06-.94L8.5 2.5l-.94 2.06-2.06.94zm10 10l.94 2.06.94-2.06 2.06-.94-2.06-.94-.94-2.06-.94 2.06-2.06.94z\"/><path d=\"M17.41 7.96l-1.37-1.37c-.4-.4-.92-.59-1.43-.59-.52 0-1.04.2-1.43.59L10.3 9.45l-7.72 7.72c-.78.78-.78 2.05 0 2.83L4 21.41c.39.39.9.59 1.41.59.51 0 1.02-.2 1.41-.59l7.78-7.78 2.81-2.81c.8-.78.8-2.07 0-2.86zM5.41 20L4 18.59l7.72-7.72 1.47 1.35L5.41 20z\"/>\n",
              "  </svg>\n",
              "      </button>\n",
              "      \n",
              "  <style>\n",
              "    .colab-df-container {\n",
              "      display:flex;\n",
              "      flex-wrap:wrap;\n",
              "      gap: 12px;\n",
              "    }\n",
              "\n",
              "    .colab-df-convert {\n",
              "      background-color: #E8F0FE;\n",
              "      border: none;\n",
              "      border-radius: 50%;\n",
              "      cursor: pointer;\n",
              "      display: none;\n",
              "      fill: #1967D2;\n",
              "      height: 32px;\n",
              "      padding: 0 0 0 0;\n",
              "      width: 32px;\n",
              "    }\n",
              "\n",
              "    .colab-df-convert:hover {\n",
              "      background-color: #E2EBFA;\n",
              "      box-shadow: 0px 1px 2px rgba(60, 64, 67, 0.3), 0px 1px 3px 1px rgba(60, 64, 67, 0.15);\n",
              "      fill: #174EA6;\n",
              "    }\n",
              "\n",
              "    [theme=dark] .colab-df-convert {\n",
              "      background-color: #3B4455;\n",
              "      fill: #D2E3FC;\n",
              "    }\n",
              "\n",
              "    [theme=dark] .colab-df-convert:hover {\n",
              "      background-color: #434B5C;\n",
              "      box-shadow: 0px 1px 3px 1px rgba(0, 0, 0, 0.15);\n",
              "      filter: drop-shadow(0px 1px 2px rgba(0, 0, 0, 0.3));\n",
              "      fill: #FFFFFF;\n",
              "    }\n",
              "  </style>\n",
              "\n",
              "      <script>\n",
              "        const buttonEl =\n",
              "          document.querySelector('#df-9bcbfb81-fc60-4cdf-bad6-f68f5cdabfa5 button.colab-df-convert');\n",
              "        buttonEl.style.display =\n",
              "          google.colab.kernel.accessAllowed ? 'block' : 'none';\n",
              "\n",
              "        async function convertToInteractive(key) {\n",
              "          const element = document.querySelector('#df-9bcbfb81-fc60-4cdf-bad6-f68f5cdabfa5');\n",
              "          const dataTable =\n",
              "            await google.colab.kernel.invokeFunction('convertToInteractive',\n",
              "                                                     [key], {});\n",
              "          if (!dataTable) return;\n",
              "\n",
              "          const docLinkHtml = 'Like what you see? Visit the ' +\n",
              "            '<a target=\"_blank\" href=https://colab.research.google.com/notebooks/data_table.ipynb>data table notebook</a>'\n",
              "            + ' to learn more about interactive tables.';\n",
              "          element.innerHTML = '';\n",
              "          dataTable['output_type'] = 'display_data';\n",
              "          await google.colab.output.renderOutput(dataTable, element);\n",
              "          const docLink = document.createElement('div');\n",
              "          docLink.innerHTML = docLinkHtml;\n",
              "          element.appendChild(docLink);\n",
              "        }\n",
              "      </script>\n",
              "    </div>\n",
              "  </div>\n",
              "  "
            ]
          },
          "metadata": {},
          "execution_count": 8
        }
      ]
    },
    {
      "cell_type": "code",
      "execution_count": 9,
      "metadata": {
        "id": "bdKXJQBlmqsi"
      },
      "outputs": [],
      "source": [
        "def comprobar(df):\n",
        "  for i in range(len(df)):\n",
        "    tags = df.iloc[i,1]\n",
        "    for t in tags:\n",
        "      train[t][i] = 1"
      ]
    },
    {
      "cell_type": "code",
      "source": [
        "comprobar(train)"
      ],
      "metadata": {
        "colab": {
          "base_uri": "https://localhost:8080/"
        },
        "id": "vetnBn53pREq",
        "outputId": "2c65c501-b773-4793-f4ed-3571d3952a46"
      },
      "execution_count": 10,
      "outputs": [
        {
          "output_type": "stream",
          "name": "stderr",
          "text": [
            "/usr/local/lib/python3.7/dist-packages/ipykernel_launcher.py:5: SettingWithCopyWarning: \n",
            "A value is trying to be set on a copy of a slice from a DataFrame\n",
            "\n",
            "See the caveats in the documentation: https://pandas.pydata.org/pandas-docs/stable/user_guide/indexing.html#returning-a-view-versus-a-copy\n",
            "  \"\"\"\n"
          ]
        }
      ]
    },
    {
      "cell_type": "code",
      "execution_count": 11,
      "metadata": {
        "id": "uOwtSyv7mqsj"
      },
      "outputs": [],
      "source": [
        "training_data = train.sample(frac=0.8, random_state=25)\n",
        "validating_data = train.drop(training_data.index)"
      ]
    },
    {
      "cell_type": "code",
      "source": [
        "training_data"
      ],
      "metadata": {
        "colab": {
          "base_uri": "https://localhost:8080/",
          "height": 695
        },
        "id": "Y547V-D4p9Oh",
        "outputId": "134b3acd-32c3-4eec-f197-c324c32ad18a"
      },
      "execution_count": 12,
      "outputs": [
        {
          "output_type": "execute_result",
          "data": {
            "text/plain": [
              "        image_name                                               tags  \\\n",
              "31650  train_31650                                   [clear, primary]   \n",
              "13348  train_13348                                   [clear, primary]   \n",
              "27658  train_27658  [agriculture, clear, cultivation, cultivation,...   \n",
              "34062  train_34062                                   [clear, primary]   \n",
              "12999  train_12999                                   [clear, primary]   \n",
              "...            ...                                                ...   \n",
              "35780  train_35780    [agriculture, clear, habitation, primary, road]   \n",
              "1424    train_1424                                   [clear, primary]   \n",
              "38775  train_38775         [agriculture, clear, primary, road, water]   \n",
              "18237  train_18237                      [agriculture, clear, primary]   \n",
              "11035  train_11035  [artisinal_mine, bare_ground, clear, primary, ...   \n",
              "\n",
              "       agriculture  artisinal_mine  bare_ground  blooming  blow_down  clear  \\\n",
              "31650            0               0            0         0          0      1   \n",
              "13348            0               0            0         0          0      1   \n",
              "27658            1               0            0         0          0      1   \n",
              "34062            0               0            0         0          0      1   \n",
              "12999            0               0            0         0          0      1   \n",
              "...            ...             ...          ...       ...        ...    ...   \n",
              "35780            1               0            0         0          0      1   \n",
              "1424             0               0            0         0          0      1   \n",
              "38775            1               0            0         0          0      1   \n",
              "18237            1               0            0         0          0      1   \n",
              "11035            0               1            1         0          0      1   \n",
              "\n",
              "       cloudy  conventional_mine  cultivation  habitation  haze  \\\n",
              "31650       0                  0            0           0     0   \n",
              "13348       0                  0            0           0     0   \n",
              "27658       0                  0            1           0     0   \n",
              "34062       0                  0            0           0     0   \n",
              "12999       0                  0            0           0     0   \n",
              "...       ...                ...          ...         ...   ...   \n",
              "35780       0                  0            0           1     0   \n",
              "1424        0                  0            0           0     0   \n",
              "38775       0                  0            0           0     0   \n",
              "18237       0                  0            0           0     0   \n",
              "11035       0                  0            0           0     0   \n",
              "\n",
              "       partly_cloudy  primary  road  selective_logging  slash_burn  water  \n",
              "31650              0        1     0                  0           0      0  \n",
              "13348              0        1     0                  0           0      0  \n",
              "27658              0        1     0                  0           0      0  \n",
              "34062              0        1     0                  0           0      0  \n",
              "12999              0        1     0                  0           0      0  \n",
              "...              ...      ...   ...                ...         ...    ...  \n",
              "35780              0        1     1                  0           0      0  \n",
              "1424               0        1     0                  0           0      0  \n",
              "38775              0        1     1                  0           0      1  \n",
              "18237              0        1     0                  0           0      0  \n",
              "11035              0        1     1                  0           0      1  \n",
              "\n",
              "[32383 rows x 19 columns]"
            ],
            "text/html": [
              "\n",
              "  <div id=\"df-c8df3720-0758-4ac4-b348-6614a3af17cc\">\n",
              "    <div class=\"colab-df-container\">\n",
              "      <div>\n",
              "<style scoped>\n",
              "    .dataframe tbody tr th:only-of-type {\n",
              "        vertical-align: middle;\n",
              "    }\n",
              "\n",
              "    .dataframe tbody tr th {\n",
              "        vertical-align: top;\n",
              "    }\n",
              "\n",
              "    .dataframe thead th {\n",
              "        text-align: right;\n",
              "    }\n",
              "</style>\n",
              "<table border=\"1\" class=\"dataframe\">\n",
              "  <thead>\n",
              "    <tr style=\"text-align: right;\">\n",
              "      <th></th>\n",
              "      <th>image_name</th>\n",
              "      <th>tags</th>\n",
              "      <th>agriculture</th>\n",
              "      <th>artisinal_mine</th>\n",
              "      <th>bare_ground</th>\n",
              "      <th>blooming</th>\n",
              "      <th>blow_down</th>\n",
              "      <th>clear</th>\n",
              "      <th>cloudy</th>\n",
              "      <th>conventional_mine</th>\n",
              "      <th>cultivation</th>\n",
              "      <th>habitation</th>\n",
              "      <th>haze</th>\n",
              "      <th>partly_cloudy</th>\n",
              "      <th>primary</th>\n",
              "      <th>road</th>\n",
              "      <th>selective_logging</th>\n",
              "      <th>slash_burn</th>\n",
              "      <th>water</th>\n",
              "    </tr>\n",
              "  </thead>\n",
              "  <tbody>\n",
              "    <tr>\n",
              "      <th>31650</th>\n",
              "      <td>train_31650</td>\n",
              "      <td>[clear, primary]</td>\n",
              "      <td>0</td>\n",
              "      <td>0</td>\n",
              "      <td>0</td>\n",
              "      <td>0</td>\n",
              "      <td>0</td>\n",
              "      <td>1</td>\n",
              "      <td>0</td>\n",
              "      <td>0</td>\n",
              "      <td>0</td>\n",
              "      <td>0</td>\n",
              "      <td>0</td>\n",
              "      <td>0</td>\n",
              "      <td>1</td>\n",
              "      <td>0</td>\n",
              "      <td>0</td>\n",
              "      <td>0</td>\n",
              "      <td>0</td>\n",
              "    </tr>\n",
              "    <tr>\n",
              "      <th>13348</th>\n",
              "      <td>train_13348</td>\n",
              "      <td>[clear, primary]</td>\n",
              "      <td>0</td>\n",
              "      <td>0</td>\n",
              "      <td>0</td>\n",
              "      <td>0</td>\n",
              "      <td>0</td>\n",
              "      <td>1</td>\n",
              "      <td>0</td>\n",
              "      <td>0</td>\n",
              "      <td>0</td>\n",
              "      <td>0</td>\n",
              "      <td>0</td>\n",
              "      <td>0</td>\n",
              "      <td>1</td>\n",
              "      <td>0</td>\n",
              "      <td>0</td>\n",
              "      <td>0</td>\n",
              "      <td>0</td>\n",
              "    </tr>\n",
              "    <tr>\n",
              "      <th>27658</th>\n",
              "      <td>train_27658</td>\n",
              "      <td>[agriculture, clear, cultivation, cultivation,...</td>\n",
              "      <td>1</td>\n",
              "      <td>0</td>\n",
              "      <td>0</td>\n",
              "      <td>0</td>\n",
              "      <td>0</td>\n",
              "      <td>1</td>\n",
              "      <td>0</td>\n",
              "      <td>0</td>\n",
              "      <td>1</td>\n",
              "      <td>0</td>\n",
              "      <td>0</td>\n",
              "      <td>0</td>\n",
              "      <td>1</td>\n",
              "      <td>0</td>\n",
              "      <td>0</td>\n",
              "      <td>0</td>\n",
              "      <td>0</td>\n",
              "    </tr>\n",
              "    <tr>\n",
              "      <th>34062</th>\n",
              "      <td>train_34062</td>\n",
              "      <td>[clear, primary]</td>\n",
              "      <td>0</td>\n",
              "      <td>0</td>\n",
              "      <td>0</td>\n",
              "      <td>0</td>\n",
              "      <td>0</td>\n",
              "      <td>1</td>\n",
              "      <td>0</td>\n",
              "      <td>0</td>\n",
              "      <td>0</td>\n",
              "      <td>0</td>\n",
              "      <td>0</td>\n",
              "      <td>0</td>\n",
              "      <td>1</td>\n",
              "      <td>0</td>\n",
              "      <td>0</td>\n",
              "      <td>0</td>\n",
              "      <td>0</td>\n",
              "    </tr>\n",
              "    <tr>\n",
              "      <th>12999</th>\n",
              "      <td>train_12999</td>\n",
              "      <td>[clear, primary]</td>\n",
              "      <td>0</td>\n",
              "      <td>0</td>\n",
              "      <td>0</td>\n",
              "      <td>0</td>\n",
              "      <td>0</td>\n",
              "      <td>1</td>\n",
              "      <td>0</td>\n",
              "      <td>0</td>\n",
              "      <td>0</td>\n",
              "      <td>0</td>\n",
              "      <td>0</td>\n",
              "      <td>0</td>\n",
              "      <td>1</td>\n",
              "      <td>0</td>\n",
              "      <td>0</td>\n",
              "      <td>0</td>\n",
              "      <td>0</td>\n",
              "    </tr>\n",
              "    <tr>\n",
              "      <th>...</th>\n",
              "      <td>...</td>\n",
              "      <td>...</td>\n",
              "      <td>...</td>\n",
              "      <td>...</td>\n",
              "      <td>...</td>\n",
              "      <td>...</td>\n",
              "      <td>...</td>\n",
              "      <td>...</td>\n",
              "      <td>...</td>\n",
              "      <td>...</td>\n",
              "      <td>...</td>\n",
              "      <td>...</td>\n",
              "      <td>...</td>\n",
              "      <td>...</td>\n",
              "      <td>...</td>\n",
              "      <td>...</td>\n",
              "      <td>...</td>\n",
              "      <td>...</td>\n",
              "      <td>...</td>\n",
              "    </tr>\n",
              "    <tr>\n",
              "      <th>35780</th>\n",
              "      <td>train_35780</td>\n",
              "      <td>[agriculture, clear, habitation, primary, road]</td>\n",
              "      <td>1</td>\n",
              "      <td>0</td>\n",
              "      <td>0</td>\n",
              "      <td>0</td>\n",
              "      <td>0</td>\n",
              "      <td>1</td>\n",
              "      <td>0</td>\n",
              "      <td>0</td>\n",
              "      <td>0</td>\n",
              "      <td>1</td>\n",
              "      <td>0</td>\n",
              "      <td>0</td>\n",
              "      <td>1</td>\n",
              "      <td>1</td>\n",
              "      <td>0</td>\n",
              "      <td>0</td>\n",
              "      <td>0</td>\n",
              "    </tr>\n",
              "    <tr>\n",
              "      <th>1424</th>\n",
              "      <td>train_1424</td>\n",
              "      <td>[clear, primary]</td>\n",
              "      <td>0</td>\n",
              "      <td>0</td>\n",
              "      <td>0</td>\n",
              "      <td>0</td>\n",
              "      <td>0</td>\n",
              "      <td>1</td>\n",
              "      <td>0</td>\n",
              "      <td>0</td>\n",
              "      <td>0</td>\n",
              "      <td>0</td>\n",
              "      <td>0</td>\n",
              "      <td>0</td>\n",
              "      <td>1</td>\n",
              "      <td>0</td>\n",
              "      <td>0</td>\n",
              "      <td>0</td>\n",
              "      <td>0</td>\n",
              "    </tr>\n",
              "    <tr>\n",
              "      <th>38775</th>\n",
              "      <td>train_38775</td>\n",
              "      <td>[agriculture, clear, primary, road, water]</td>\n",
              "      <td>1</td>\n",
              "      <td>0</td>\n",
              "      <td>0</td>\n",
              "      <td>0</td>\n",
              "      <td>0</td>\n",
              "      <td>1</td>\n",
              "      <td>0</td>\n",
              "      <td>0</td>\n",
              "      <td>0</td>\n",
              "      <td>0</td>\n",
              "      <td>0</td>\n",
              "      <td>0</td>\n",
              "      <td>1</td>\n",
              "      <td>1</td>\n",
              "      <td>0</td>\n",
              "      <td>0</td>\n",
              "      <td>1</td>\n",
              "    </tr>\n",
              "    <tr>\n",
              "      <th>18237</th>\n",
              "      <td>train_18237</td>\n",
              "      <td>[agriculture, clear, primary]</td>\n",
              "      <td>1</td>\n",
              "      <td>0</td>\n",
              "      <td>0</td>\n",
              "      <td>0</td>\n",
              "      <td>0</td>\n",
              "      <td>1</td>\n",
              "      <td>0</td>\n",
              "      <td>0</td>\n",
              "      <td>0</td>\n",
              "      <td>0</td>\n",
              "      <td>0</td>\n",
              "      <td>0</td>\n",
              "      <td>1</td>\n",
              "      <td>0</td>\n",
              "      <td>0</td>\n",
              "      <td>0</td>\n",
              "      <td>0</td>\n",
              "    </tr>\n",
              "    <tr>\n",
              "      <th>11035</th>\n",
              "      <td>train_11035</td>\n",
              "      <td>[artisinal_mine, bare_ground, clear, primary, ...</td>\n",
              "      <td>0</td>\n",
              "      <td>1</td>\n",
              "      <td>1</td>\n",
              "      <td>0</td>\n",
              "      <td>0</td>\n",
              "      <td>1</td>\n",
              "      <td>0</td>\n",
              "      <td>0</td>\n",
              "      <td>0</td>\n",
              "      <td>0</td>\n",
              "      <td>0</td>\n",
              "      <td>0</td>\n",
              "      <td>1</td>\n",
              "      <td>1</td>\n",
              "      <td>0</td>\n",
              "      <td>0</td>\n",
              "      <td>1</td>\n",
              "    </tr>\n",
              "  </tbody>\n",
              "</table>\n",
              "<p>32383 rows × 19 columns</p>\n",
              "</div>\n",
              "      <button class=\"colab-df-convert\" onclick=\"convertToInteractive('df-c8df3720-0758-4ac4-b348-6614a3af17cc')\"\n",
              "              title=\"Convert this dataframe to an interactive table.\"\n",
              "              style=\"display:none;\">\n",
              "        \n",
              "  <svg xmlns=\"http://www.w3.org/2000/svg\" height=\"24px\"viewBox=\"0 0 24 24\"\n",
              "       width=\"24px\">\n",
              "    <path d=\"M0 0h24v24H0V0z\" fill=\"none\"/>\n",
              "    <path d=\"M18.56 5.44l.94 2.06.94-2.06 2.06-.94-2.06-.94-.94-2.06-.94 2.06-2.06.94zm-11 1L8.5 8.5l.94-2.06 2.06-.94-2.06-.94L8.5 2.5l-.94 2.06-2.06.94zm10 10l.94 2.06.94-2.06 2.06-.94-2.06-.94-.94-2.06-.94 2.06-2.06.94z\"/><path d=\"M17.41 7.96l-1.37-1.37c-.4-.4-.92-.59-1.43-.59-.52 0-1.04.2-1.43.59L10.3 9.45l-7.72 7.72c-.78.78-.78 2.05 0 2.83L4 21.41c.39.39.9.59 1.41.59.51 0 1.02-.2 1.41-.59l7.78-7.78 2.81-2.81c.8-.78.8-2.07 0-2.86zM5.41 20L4 18.59l7.72-7.72 1.47 1.35L5.41 20z\"/>\n",
              "  </svg>\n",
              "      </button>\n",
              "      \n",
              "  <style>\n",
              "    .colab-df-container {\n",
              "      display:flex;\n",
              "      flex-wrap:wrap;\n",
              "      gap: 12px;\n",
              "    }\n",
              "\n",
              "    .colab-df-convert {\n",
              "      background-color: #E8F0FE;\n",
              "      border: none;\n",
              "      border-radius: 50%;\n",
              "      cursor: pointer;\n",
              "      display: none;\n",
              "      fill: #1967D2;\n",
              "      height: 32px;\n",
              "      padding: 0 0 0 0;\n",
              "      width: 32px;\n",
              "    }\n",
              "\n",
              "    .colab-df-convert:hover {\n",
              "      background-color: #E2EBFA;\n",
              "      box-shadow: 0px 1px 2px rgba(60, 64, 67, 0.3), 0px 1px 3px 1px rgba(60, 64, 67, 0.15);\n",
              "      fill: #174EA6;\n",
              "    }\n",
              "\n",
              "    [theme=dark] .colab-df-convert {\n",
              "      background-color: #3B4455;\n",
              "      fill: #D2E3FC;\n",
              "    }\n",
              "\n",
              "    [theme=dark] .colab-df-convert:hover {\n",
              "      background-color: #434B5C;\n",
              "      box-shadow: 0px 1px 3px 1px rgba(0, 0, 0, 0.15);\n",
              "      filter: drop-shadow(0px 1px 2px rgba(0, 0, 0, 0.3));\n",
              "      fill: #FFFFFF;\n",
              "    }\n",
              "  </style>\n",
              "\n",
              "      <script>\n",
              "        const buttonEl =\n",
              "          document.querySelector('#df-c8df3720-0758-4ac4-b348-6614a3af17cc button.colab-df-convert');\n",
              "        buttonEl.style.display =\n",
              "          google.colab.kernel.accessAllowed ? 'block' : 'none';\n",
              "\n",
              "        async function convertToInteractive(key) {\n",
              "          const element = document.querySelector('#df-c8df3720-0758-4ac4-b348-6614a3af17cc');\n",
              "          const dataTable =\n",
              "            await google.colab.kernel.invokeFunction('convertToInteractive',\n",
              "                                                     [key], {});\n",
              "          if (!dataTable) return;\n",
              "\n",
              "          const docLinkHtml = 'Like what you see? Visit the ' +\n",
              "            '<a target=\"_blank\" href=https://colab.research.google.com/notebooks/data_table.ipynb>data table notebook</a>'\n",
              "            + ' to learn more about interactive tables.';\n",
              "          element.innerHTML = '';\n",
              "          dataTable['output_type'] = 'display_data';\n",
              "          await google.colab.output.renderOutput(dataTable, element);\n",
              "          const docLink = document.createElement('div');\n",
              "          docLink.innerHTML = docLinkHtml;\n",
              "          element.appendChild(docLink);\n",
              "        }\n",
              "      </script>\n",
              "    </div>\n",
              "  </div>\n",
              "  "
            ]
          },
          "metadata": {},
          "execution_count": 12
        }
      ]
    },
    {
      "cell_type": "markdown",
      "metadata": {
        "id": "cnec_JS1mqsj"
      },
      "source": [
        "A pesar de todo este procesamiento, da error cuando se ejecuta las funciones de Keras para procesar y generar los datos. El código era el siguiente."
      ]
    },
    {
      "cell_type": "code",
      "source": [
        "\"\"\" from keras.preprocessing.image import ImageDataGenerator\n",
        "\n",
        "train_datagen = ImageDataGenerator(\n",
        "      rescale=1./255,\n",
        "      rotation_range=40,\n",
        "      width_shift_range=0.2,\n",
        "      height_shift_range=0.2,\n",
        "      shear_range=0.2,\n",
        "      zoom_range=0.2,\n",
        "      horizontal_flip=True,\n",
        "      fill_mode='nearest')\n",
        "\n",
        "# Note that the validation data should not be augmented!\n",
        "\n",
        "test_datagen = ImageDataGenerator(rescale=1./255)\n",
        "\n",
        "train_generator = train_datagen.flow_from_dataframe(\n",
        "        training_data,\n",
        "        path_train,\n",
        "        x_col='image_name', y_col=TAGS,\n",
        "        # This is the target directory\n",
        "        # All images will be resized to 150x150\n",
        "        target_size=(150, 150),\n",
        "        batch_size=20,\n",
        "        # Since we use binary_crossentropy loss, we need binary labels\n",
        "        class_mode='multi_output')\n",
        "\n",
        "validation_generator = test_datagen.flow_from_dataframe(\n",
        "        validating_data,\n",
        "        path_train,\n",
        "        x_col='image_name', y_col=TAGS,\n",
        "        target_size=(150, 150),\n",
        "        batch_size=20,\n",
        "        class_mode='multi_output')\"\"\""
      ],
      "metadata": {
        "colab": {
          "base_uri": "https://localhost:8080/",
          "height": 202
        },
        "id": "iH9D400qq3dw",
        "outputId": "a9663088-047e-4bad-f314-b27fe07f7784"
      },
      "execution_count": 13,
      "outputs": [
        {
          "output_type": "execute_result",
          "data": {
            "text/plain": [
              "\" from keras.preprocessing.image import ImageDataGenerator\\n\\ntrain_datagen = ImageDataGenerator(\\n      rescale=1./255,\\n      rotation_range=40,\\n      width_shift_range=0.2,\\n      height_shift_range=0.2,\\n      shear_range=0.2,\\n      zoom_range=0.2,\\n      horizontal_flip=True,\\n      fill_mode='nearest')\\n\\n# Note that the validation data should not be augmented!\\n\\ntest_datagen = ImageDataGenerator(rescale=1./255)\\n\\ntrain_generator = train_datagen.flow_from_dataframe(\\n        training_data,\\n        path_train,\\n        x_col='image_name', y_col=TAGS,\\n        # This is the target directory\\n        # All images will be resized to 150x150\\n        target_size=(150, 150),\\n        batch_size=20,\\n        # Since we use binary_crossentropy loss, we need binary labels\\n        class_mode='multi_output')\\n\\nvalidation_generator = test_datagen.flow_from_dataframe(\\n        validating_data,\\n        path_train,\\n        x_col='image_name', y_col=TAGS,\\n        target_size=(150, 150),\\n        batch_size=20,\\n        class_mode='multi_output')\""
            ],
            "application/vnd.google.colaboratory.intrinsic+json": {
              "type": "string"
            }
          },
          "metadata": {},
          "execution_count": 13
        }
      ]
    },
    {
      "cell_type": "markdown",
      "metadata": {
        "id": "Me0fmEEPmqsk"
      },
      "source": [
        "También se habia intentado guardar las imágenes en carpetas según sus respectivos labels."
      ]
    },
    {
      "cell_type": "markdown",
      "metadata": {
        "id": "STFJ7umBmqsl"
      },
      "source": [
        "```path_validation =\"../data/validation_fotos\" ```\n",
        "\n",
        "```path_train =\"../data/train_fotos\" ```"
      ]
    },
    {
      "cell_type": "code",
      "execution_count": 14,
      "metadata": {
        "id": "-pGeBtL4mqsl"
      },
      "outputs": [],
      "source": [
        "def guardar_en_carpetas(path,df):\n",
        "    l2 = []\n",
        "    for foto,label in df.values:\n",
        "        path_fotos=\"../data/train_jpg\"\n",
        "        for l in label:\n",
        "            if not os.path.exists(f\"{path}/{l}\"): os.mkdir(f\"{path}/{l}\")\n",
        "            if not os.path.exists( f\"{path_train}/{foto}\"): l2.append(foto)\n",
        "      #shutil.move(f\"{path_fotos}/{foto}.jpg\", f\"{path}/{foto}.jpg\")\n",
        "      #if os.path.exists(f\"{path}/{foto}\"): print(\"bien!\")\n",
        "    return l2"
      ]
    },
    {
      "cell_type": "markdown",
      "metadata": {
        "id": "ClScXIp7mqsm"
      },
      "source": [
        "```fotos_no1 = guardar_en_carpetas(path_validation,validating_data)```\n",
        "\n",
        "```fotos_no2 = guardar_en_carpetas(path_train,training_data)```"
      ]
    },
    {
      "cell_type": "markdown",
      "metadata": {
        "id": "W1VzHwJNmqsm"
      },
      "source": [
        "Tampoco en este caso hemos conseguido que funcionara el código de Keras adaptado para que coja las imágenes desde el directorio."
      ]
    },
    {
      "cell_type": "markdown",
      "metadata": {
        "id": "Mtnt6Peomqsm"
      },
      "source": [
        "Al final, se decidió que en lugar de procesar imágenes, se procesaría los vectores de las imágenes. Para la variable de y_train se ha definido con label_map."
      ]
    },
    {
      "cell_type": "code",
      "execution_count": 15,
      "metadata": {
        "id": "EGwvJxX3mqsn"
      },
      "outputs": [],
      "source": [
        "path_x_train = \"data/x_train.npy\"\n",
        "path_y_train = \"data/y_train.npy\"\n",
        "\n",
        "if not os.path.exists(path_x_train) and not os.path.exists(path_y_train):\n",
        "    x_train = []\n",
        "    x_test = []\n",
        "    y_train = []\n",
        "    \n",
        "    df_train = pd.read_csv('data/csv_tags/train_v2.csv')\n",
        "    \n",
        "    flatten = lambda l: [item for sublist in l for item in sublist]\n",
        "    labels = list(set(flatten([l.split(' ') for l in df_train['tags'].values])))\n",
        "    \n",
        "    label_map = {l: i for i, l in enumerate(labels)}\n",
        "    inv_label_map = {i: l for l, i in label_map.items()}\n",
        "    \n",
        "    for f, tags in tqdm(df_train.values, miniters=1000):\n",
        "        img = cv2.imread('data/train-jpg/{}.jpg'.format(f))\n",
        "        targets = np.zeros(17)\n",
        "        for t in tags.split(' '):\n",
        "            targets[label_map[t]] = 1 \n",
        "        x_train.append(cv2.resize(img, (32, 32)))\n",
        "        y_train.append(targets)\n",
        "        \n",
        "    y_train = np.array(y_train, np.uint8)\n",
        "    x_train = np.array(x_train, np.float16) / 255.\n",
        "    \n",
        "    print(x_train.shape)\n",
        "    print(y_train.shape)\n",
        "    \n",
        "    with open(path_x_train, 'wb') as f:\n",
        "        np.save(f, x_train)\n",
        "    with open(path_y_train, 'wb') as f:\n",
        "        np.save(f, y_train)"
      ]
    },
    {
      "cell_type": "code",
      "source": [
        "%ls"
      ],
      "metadata": {
        "colab": {
          "base_uri": "https://localhost:8080/"
        },
        "id": "h1WK_YJsrYj3",
        "outputId": "ca7776f3-f48c-47a8-f16e-c0e61031f204"
      },
      "execution_count": 16,
      "outputs": [
        {
          "output_type": "stream",
          "name": "stdout",
          "text": [
            " amazon_forest_notebook.ipynb\n",
            "'Copia de 9_IMAGE_Pretrained-convnet.ipynb'\n",
            " \u001b[0m\u001b[01;34mdata\u001b[0m/\n",
            " keras.ipynb\n",
            " \u001b[01;34mplanet-understanding-the-amazon-from-space\u001b[0m/\n",
            " __Untitled0.ipynb\n",
            " Untitled0.ipynb\n"
          ]
        }
      ]
    },
    {
      "cell_type": "markdown",
      "metadata": {
        "id": "k2OVq6fPmqsn"
      },
      "source": [
        "Se carga los array de y_train y x_train."
      ]
    },
    {
      "cell_type": "code",
      "execution_count": 4,
      "metadata": {
        "id": "Q3TADf3Fmqsn"
      },
      "outputs": [],
      "source": [
        "with open('data/x_train.npy', 'rb') as f:\n",
        "    x_train = np.load(f)\n",
        "with open('data/y_train.npy', 'rb') as f:\n",
        "    y_train = np.load(f)"
      ]
    },
    {
      "cell_type": "code",
      "execution_count": 31,
      "metadata": {
        "collapsed": true,
        "jupyter": {
          "outputs_hidden": true
        },
        "colab": {
          "base_uri": "https://localhost:8080/"
        },
        "id": "cadG0UClmqso",
        "outputId": "72970399-c4c2-467a-934f-bd092fa55baf"
      },
      "outputs": [
        {
          "output_type": "execute_result",
          "data": {
            "text/plain": [
              "array([[[[0.396  , 0.4314 , 0.3647 ],\n",
              "         [0.4236 , 0.451  , 0.4    ],\n",
              "         [0.4    , 0.4353 , 0.3765 ],\n",
              "         ...,\n",
              "         [0.396  , 0.4275 , 0.349  ],\n",
              "         [0.4    , 0.4119 , 0.3452 ],\n",
              "         [0.408  , 0.4314 , 0.3765 ]],\n",
              "\n",
              "        [[0.408  , 0.4236 , 0.3647 ],\n",
              "         [0.4119 , 0.4353 , 0.3765 ],\n",
              "         [0.4038 , 0.4275 , 0.3765 ],\n",
              "         ...,\n",
              "         [0.4158 , 0.443  , 0.3647 ],\n",
              "         [0.408  , 0.4314 , 0.3608 ],\n",
              "         [0.396  , 0.4236 , 0.3452 ]],\n",
              "\n",
              "        [[0.4    , 0.4197 , 0.3608 ],\n",
              "         [0.4038 , 0.4314 , 0.3765 ],\n",
              "         [0.4197 , 0.4548 , 0.4038 ],\n",
              "         ...,\n",
              "         [0.4    , 0.4197 , 0.3647 ],\n",
              "         [0.4197 , 0.4392 , 0.3647 ],\n",
              "         [0.392  , 0.4119 , 0.3372 ]],\n",
              "\n",
              "        ...,\n",
              "\n",
              "        [[0.4158 , 0.4548 , 0.3843 ],\n",
              "         [0.4158 , 0.451  , 0.3608 ],\n",
              "         [0.4038 , 0.4314 , 0.349  ],\n",
              "         ...,\n",
              "         [0.4    , 0.4314 , 0.3452 ],\n",
              "         [0.4038 , 0.4236 , 0.3452 ],\n",
              "         [0.4119 , 0.4236 , 0.349  ]],\n",
              "\n",
              "        [[0.4158 , 0.443  , 0.3687 ],\n",
              "         [0.4158 , 0.447  , 0.3804 ],\n",
              "         [0.4119 , 0.4353 , 0.3608 ],\n",
              "         ...,\n",
              "         [0.4038 , 0.4197 , 0.3608 ],\n",
              "         [0.396  , 0.4119 , 0.3254 ],\n",
              "         [0.408  , 0.4158 , 0.341  ]],\n",
              "\n",
              "        [[0.4236 , 0.4353 , 0.3765 ],\n",
              "         [0.4197 , 0.4392 , 0.3765 ],\n",
              "         [0.4275 , 0.447  , 0.392  ],\n",
              "         ...,\n",
              "         [0.4197 , 0.4392 , 0.3843 ],\n",
              "         [0.4    , 0.4314 , 0.353  ],\n",
              "         [0.4158 , 0.4275 , 0.353  ]]],\n",
              "\n",
              "\n",
              "       [[[0.2313 , 0.255  , 0.2079 ],\n",
              "         [0.251  , 0.2903 , 0.251  ],\n",
              "         [0.2588 , 0.298  , 0.255  ],\n",
              "         ...,\n",
              "         [0.2825 , 0.3293 , 0.2825 ],\n",
              "         [0.255  , 0.2783 , 0.2471 ],\n",
              "         [0.1921 , 0.2118 , 0.1686 ]],\n",
              "\n",
              "        [[0.251  , 0.2705 , 0.2313 ],\n",
              "         [0.251  , 0.2825 , 0.2432 ],\n",
              "         [0.2705 , 0.3098 , 0.2666 ],\n",
              "         ...,\n",
              "         [0.2393 , 0.2825 , 0.2274 ],\n",
              "         [0.2744 , 0.3176 , 0.2627 ],\n",
              "         [0.2196 , 0.2432 , 0.2    ]],\n",
              "\n",
              "        [[0.2432 , 0.2744 , 0.2393 ],\n",
              "         [0.2588 , 0.2783 , 0.2588 ],\n",
              "         [0.251  , 0.3137 , 0.2666 ],\n",
              "         ...,\n",
              "         [0.251  , 0.3176 , 0.2588 ],\n",
              "         [0.255  , 0.3293 , 0.2705 ],\n",
              "         [0.255  , 0.302  , 0.2588 ]],\n",
              "\n",
              "        ...,\n",
              "\n",
              "        [[0.3137 , 0.4275 , 0.3882 ],\n",
              "         [0.341  , 0.4353 , 0.408  ],\n",
              "         [0.3254 , 0.4236 , 0.396  ],\n",
              "         ...,\n",
              "         [0.2432 , 0.2903 , 0.2393 ],\n",
              "         [0.204  , 0.2354 , 0.1765 ],\n",
              "         [0.2432 , 0.2903 , 0.2235 ]],\n",
              "\n",
              "        [[0.3137 , 0.4119 , 0.3843 ],\n",
              "         [0.3254 , 0.4275 , 0.4    ],\n",
              "         [0.3176 , 0.408  , 0.3765 ],\n",
              "         ...,\n",
              "         [0.2627 , 0.306  , 0.255  ],\n",
              "         [0.2393 , 0.2783 , 0.2588 ],\n",
              "         [0.2588 , 0.3098 , 0.2705 ]],\n",
              "\n",
              "        [[0.306  , 0.392  , 0.3726 ],\n",
              "         [0.3137 , 0.4158 , 0.3843 ],\n",
              "         [0.3176 , 0.3882 , 0.3647 ],\n",
              "         ...,\n",
              "         [0.2903 , 0.349  , 0.3254 ],\n",
              "         [0.2705 , 0.3333 , 0.3137 ],\n",
              "         [0.3098 , 0.3765 , 0.349  ]]],\n",
              "\n",
              "\n",
              "       [[[0.2274 , 0.2432 , 0.1726 ],\n",
              "         [0.2196 , 0.2196 , 0.1608 ],\n",
              "         [0.2196 , 0.2235 , 0.1804 ],\n",
              "         ...,\n",
              "         [0.2118 , 0.2313 , 0.149  ],\n",
              "         [0.2274 , 0.2313 , 0.1804 ],\n",
              "         [0.2196 , 0.2274 , 0.1765 ]],\n",
              "\n",
              "        [[0.2235 , 0.255  , 0.1882 ],\n",
              "         [0.2274 , 0.2235 , 0.1686 ],\n",
              "         [0.204  , 0.196  , 0.1216 ],\n",
              "         ...,\n",
              "         [0.2196 , 0.2235 , 0.1882 ],\n",
              "         [0.2235 , 0.2588 , 0.1804 ],\n",
              "         [0.2274 , 0.2432 , 0.1765 ]],\n",
              "\n",
              "        [[0.2196 , 0.2432 , 0.1686 ],\n",
              "         [0.2274 , 0.2157 , 0.1765 ],\n",
              "         [0.2079 , 0.1843 , 0.1216 ],\n",
              "         ...,\n",
              "         [0.2079 , 0.2235 , 0.1569 ],\n",
              "         [0.2393 , 0.2471 , 0.204  ],\n",
              "         [0.2235 , 0.2432 , 0.196  ]],\n",
              "\n",
              "        ...,\n",
              "\n",
              "        [[0.2235 , 0.2354 , 0.1804 ],\n",
              "         [0.2235 , 0.2079 , 0.1569 ],\n",
              "         [0.2157 , 0.2118 , 0.1255 ],\n",
              "         ...,\n",
              "         [0.2432 , 0.2627 , 0.2118 ],\n",
              "         [0.2354 , 0.2274 , 0.1647 ],\n",
              "         [0.2274 , 0.2196 , 0.153  ]],\n",
              "\n",
              "        [[0.2313 , 0.2196 , 0.1647 ],\n",
              "         [0.2118 , 0.2157 , 0.1569 ],\n",
              "         [0.2118 , 0.2079 , 0.1451 ],\n",
              "         ...,\n",
              "         [0.2393 , 0.251  , 0.1921 ],\n",
              "         [0.2196 , 0.2118 , 0.153  ],\n",
              "         [0.2274 , 0.2196 , 0.1647 ]],\n",
              "\n",
              "        [[0.2235 , 0.2    , 0.1412 ],\n",
              "         [0.2274 , 0.2393 , 0.1921 ],\n",
              "         [0.204  , 0.196  , 0.1451 ],\n",
              "         ...,\n",
              "         [0.2393 , 0.2432 , 0.1765 ],\n",
              "         [0.2196 , 0.1921 , 0.1372 ],\n",
              "         [0.2393 , 0.2235 , 0.1686 ]]],\n",
              "\n",
              "\n",
              "       ...,\n",
              "\n",
              "\n",
              "       [[[0.1804 , 0.3137 , 0.3843 ],\n",
              "         [0.1765 , 0.3215 , 0.3843 ],\n",
              "         [0.2118 , 0.353  , 0.4197 ],\n",
              "         ...,\n",
              "         [0.1294 , 0.2471 , 0.3176 ],\n",
              "         [0.08234, 0.1765 , 0.2393 ],\n",
              "         [0.0784 , 0.1647 , 0.2274 ]],\n",
              "\n",
              "        [[0.204  , 0.3333 , 0.4119 ],\n",
              "         [0.2118 , 0.3452 , 0.4119 ],\n",
              "         [0.2118 , 0.353  , 0.396  ],\n",
              "         ...,\n",
              "         [0.06274, 0.1726 , 0.2354 ],\n",
              "         [0.0706 , 0.1451 , 0.2079 ],\n",
              "         [0.0863 , 0.1765 , 0.251  ]],\n",
              "\n",
              "        [[0.2    , 0.341  , 0.4038 ],\n",
              "         [0.1843 , 0.3254 , 0.396  ],\n",
              "         [0.1843 , 0.3293 , 0.3882 ],\n",
              "         ...,\n",
              "         [0.08234, 0.1921 , 0.2432 ],\n",
              "         [0.0863 , 0.1765 , 0.2471 ],\n",
              "         [0.0784 , 0.1882 , 0.2393 ]],\n",
              "\n",
              "        ...,\n",
              "\n",
              "        [[0.1294 , 0.2313 , 0.2864 ],\n",
              "         [0.1255 , 0.2157 , 0.2825 ],\n",
              "         [0.1177 , 0.2274 , 0.2783 ],\n",
              "         ...,\n",
              "         [0.0863 , 0.1804 , 0.2393 ],\n",
              "         [0.0902 , 0.1921 , 0.2432 ],\n",
              "         [0.0941 , 0.1921 , 0.2471 ]],\n",
              "\n",
              "        [[0.1333 , 0.2274 , 0.2783 ],\n",
              "         [0.1255 , 0.2354 , 0.2825 ],\n",
              "         [0.1255 , 0.2235 , 0.2666 ],\n",
              "         ...,\n",
              "         [0.098  , 0.1804 , 0.2393 ],\n",
              "         [0.102  , 0.196  , 0.2432 ],\n",
              "         [0.0902 , 0.1921 , 0.2471 ]],\n",
              "\n",
              "        [[0.1372 , 0.2393 , 0.2864 ],\n",
              "         [0.1294 , 0.2393 , 0.2744 ],\n",
              "         [0.1294 , 0.2235 , 0.2627 ],\n",
              "         ...,\n",
              "         [0.098  , 0.1921 , 0.2627 ],\n",
              "         [0.1059 , 0.2079 , 0.2627 ],\n",
              "         [0.1059 , 0.204  , 0.2666 ]]],\n",
              "\n",
              "\n",
              "       [[[0.4158 , 0.51   , 0.5293 ],\n",
              "         [0.4158 , 0.5176 , 0.533  ],\n",
              "         [0.4158 , 0.51   , 0.5254 ],\n",
              "         ...,\n",
              "         [0.4236 , 0.5215 , 0.541  ],\n",
              "         [0.4197 , 0.5215 , 0.541  ],\n",
              "         [0.4038 , 0.506  , 0.5254 ]],\n",
              "\n",
              "        [[0.408  , 0.51   , 0.5254 ],\n",
              "         [0.4197 , 0.5176 , 0.537  ],\n",
              "         [0.4236 , 0.5137 , 0.5254 ],\n",
              "         ...,\n",
              "         [0.4314 , 0.533  , 0.549  ],\n",
              "         [0.4236 , 0.5137 , 0.533  ],\n",
              "         [0.4236 , 0.498  , 0.5176 ]],\n",
              "\n",
              "        [[0.4119 , 0.51   , 0.51   ],\n",
              "         [0.4119 , 0.5137 , 0.5293 ],\n",
              "         [0.4158 , 0.5137 , 0.5254 ],\n",
              "         ...,\n",
              "         [0.4353 , 0.537  , 0.5767 ],\n",
              "         [0.4392 , 0.533  , 0.549  ],\n",
              "         [0.4314 , 0.5215 , 0.5527 ]],\n",
              "\n",
              "        ...,\n",
              "\n",
              "        [[0.408  , 0.5137 , 0.5137 ],\n",
              "         [0.4038 , 0.506  , 0.51   ],\n",
              "         [0.4    , 0.498  , 0.506  ],\n",
              "         ...,\n",
              "         [0.396  , 0.4863 , 0.4941 ],\n",
              "         [0.396  , 0.4863 , 0.4863 ],\n",
              "         [0.392  , 0.4746 , 0.4626 ]],\n",
              "\n",
              "        [[0.4158 , 0.5137 , 0.506  ],\n",
              "         [0.4038 , 0.5137 , 0.5215 ],\n",
              "         [0.4038 , 0.4941 , 0.502  ],\n",
              "         ...,\n",
              "         [0.392  , 0.4785 , 0.4824 ],\n",
              "         [0.396  , 0.4785 , 0.4824 ],\n",
              "         [0.3882 , 0.4666 , 0.4746 ]],\n",
              "\n",
              "        [[0.4    , 0.498  , 0.506  ],\n",
              "         [0.4119 , 0.5137 , 0.5137 ],\n",
              "         [0.4158 , 0.5176 , 0.533  ],\n",
              "         ...,\n",
              "         [0.392  , 0.4746 , 0.4824 ],\n",
              "         [0.396  , 0.4824 , 0.4824 ],\n",
              "         [0.3882 , 0.4785 , 0.4707 ]]],\n",
              "\n",
              "\n",
              "       [[[0.2864 , 0.349  , 0.306  ],\n",
              "         [0.302  , 0.3687 , 0.3098 ],\n",
              "         [0.2783 , 0.3215 , 0.2783 ],\n",
              "         ...,\n",
              "         [0.2705 , 0.3137 , 0.2705 ],\n",
              "         [0.2825 , 0.341  , 0.302  ],\n",
              "         [0.298  , 0.3647 , 0.3452 ]],\n",
              "\n",
              "        [[0.2864 , 0.353  , 0.302  ],\n",
              "         [0.2903 , 0.341  , 0.2942 ],\n",
              "         [0.2744 , 0.3098 , 0.2744 ],\n",
              "         ...,\n",
              "         [0.2627 , 0.306  , 0.255  ],\n",
              "         [0.2864 , 0.3372 , 0.3137 ],\n",
              "         [0.2942 , 0.3452 , 0.3137 ]],\n",
              "\n",
              "        [[0.2903 , 0.349  , 0.3098 ],\n",
              "         [0.2783 , 0.3333 , 0.2903 ],\n",
              "         [0.2783 , 0.3254 , 0.2825 ],\n",
              "         ...,\n",
              "         [0.251  , 0.2903 , 0.255  ],\n",
              "         [0.2864 , 0.3293 , 0.3176 ],\n",
              "         [0.3098 , 0.353  , 0.3608 ]],\n",
              "\n",
              "        ...,\n",
              "\n",
              "        [[0.2588 , 0.2744 , 0.2313 ],\n",
              "         [0.2903 , 0.306  , 0.2825 ],\n",
              "         [0.2393 , 0.2864 , 0.2471 ],\n",
              "         ...,\n",
              "         [0.2354 , 0.255  , 0.2235 ],\n",
              "         [0.251  , 0.2903 , 0.255  ],\n",
              "         [0.2666 , 0.2942 , 0.2744 ]],\n",
              "\n",
              "        [[0.251  , 0.2783 , 0.251  ],\n",
              "         [0.2588 , 0.2825 , 0.2274 ],\n",
              "         [0.255  , 0.2903 , 0.255  ],\n",
              "         ...,\n",
              "         [0.2432 , 0.2588 , 0.2157 ],\n",
              "         [0.255  , 0.2864 , 0.2393 ],\n",
              "         [0.2705 , 0.298  , 0.255  ]],\n",
              "\n",
              "        [[0.255  , 0.2744 , 0.2432 ],\n",
              "         [0.2666 , 0.2705 , 0.2432 ],\n",
              "         [0.2393 , 0.2705 , 0.2157 ],\n",
              "         ...,\n",
              "         [0.255  , 0.2666 , 0.2393 ],\n",
              "         [0.2783 , 0.298  , 0.255  ],\n",
              "         [0.2705 , 0.298  , 0.251  ]]]], dtype=float16)"
            ]
          },
          "metadata": {},
          "execution_count": 31
        }
      ],
      "source": [
        "x_train"
      ]
    },
    {
      "cell_type": "markdown",
      "metadata": {
        "id": "xR8PJYgamqsp"
      },
      "source": [
        "Aqui, se separa los datos en train, test y validation."
      ]
    },
    {
      "cell_type": "code",
      "execution_count": 5,
      "metadata": {
        "id": "VUeThXEOmqsp"
      },
      "outputs": [],
      "source": [
        "x_train, x_test, y_train, y_test = train_test_split(x_train, y_train, test_size=0.1, random_state=1)\n",
        "\n",
        "x_train, x_val, y_train, y_val  = train_test_split(x_train, y_train, test_size=0.2, random_state=1) "
      ]
    },
    {
      "cell_type": "code",
      "execution_count": 6,
      "metadata": {
        "colab": {
          "base_uri": "https://localhost:8080/"
        },
        "id": "gZhU1c6umqsp",
        "outputId": "0feeb73a-5059-4f6c-c9a2-289ff2c3a769"
      },
      "outputs": [
        {
          "output_type": "stream",
          "name": "stdout",
          "text": [
            "29144 7287 4048\n"
          ]
        }
      ],
      "source": [
        "print(len(x_train) , len(x_val) , len(x_test))"
      ]
    },
    {
      "cell_type": "markdown",
      "metadata": {
        "id": "aKZnPf6Tmqsq"
      },
      "source": [
        "## Arquitectura del modelo:"
      ]
    },
    {
      "cell_type": "markdown",
      "metadata": {
        "id": "mSX_TuFWmqsq"
      },
      "source": [
        "Hemos probado dos input_size (82,82) y (32,32). Entendemos que tendrá que dar mejor resultado el size más pequeño ya que el modelo aprende más facil. Aun asi, los resultados no lo reflejan."
      ]
    },
    {
      "cell_type": "markdown",
      "source": [
        "Como se ha comentado anteriormente, se quiere crear un modelo de cero.\n",
        "\n",
        "Al modelo, primero se ha decidido añadir una capa convolucional de 32 filtros con una size del kernel de 3x3, la función de activación es relu y también se define el input_shape de 82x82.\n",
        "\n",
        "Despues, se añade otra capa convlucional pero esta de 64 filtros.\n",
        "\n",
        "Luego se realiza el MaxPooling para quedarnos con la imformación que más importe.\n",
        "\n",
        "Para evitar sobreentrenamiento hemos añadido una capa de Dropout.\n",
        "\n",
        "Despues añadimos una capa Dense de 128 con una función de activación de relu.\n",
        "\n",
        "Añadimos otra capa Dropout por la mimsma razón que la de antes.\n",
        "\n",
        "Por último, añadimos la ultima capa Dense de 17 (como el número de labels) y de función de activación de Softmax."
      ],
      "metadata": {
        "id": "J3rJFC5uEapU"
      }
    },
    {
      "cell_type": "code",
      "execution_count": 21,
      "metadata": {
        "id": "HYCrrR-EE-H0"
      },
      "outputs": [],
      "source": [
        "model = models.Sequential()\n",
        "model.add(Conv2D(32, kernel_size=(3, 3),\n",
        "                 activation='relu',\n",
        "                 input_shape=(82, 82, 3)))\n",
        "\n",
        "model.add(Conv2D(64, (3, 3), activation='relu'))\n",
        "model.add(MaxPooling2D(pool_size=(2, 2)))\n",
        "model.add(layers.Dropout(0.25))\n",
        "model.add(layers.Flatten())\n",
        "model.add(layers.Dense(128, activation='relu'))\n",
        "model.add(layers.Dropout(0.5))\n",
        "model.add(layers.Dense(17, activation='sigmoid'))"
      ]
    },
    {
      "cell_type": "markdown",
      "metadata": {
        "id": "ccaJb_CKE-H2"
      },
      "source": [
        "This is what our model looks like now:"
      ]
    },
    {
      "cell_type": "code",
      "execution_count": 22,
      "metadata": {
        "colab": {
          "base_uri": "https://localhost:8080/"
        },
        "id": "XLrAHB6uE-H3",
        "outputId": "3e0a6d16-4182-45c2-a2da-1e4570a7831e"
      },
      "outputs": [
        {
          "output_type": "stream",
          "name": "stdout",
          "text": [
            "Model: \"sequential\"\n",
            "_________________________________________________________________\n",
            " Layer (type)                Output Shape              Param #   \n",
            "=================================================================\n",
            " conv2d (Conv2D)             (None, 80, 80, 32)        896       \n",
            "                                                                 \n",
            " conv2d_1 (Conv2D)           (None, 78, 78, 64)        18496     \n",
            "                                                                 \n",
            " max_pooling2d (MaxPooling2D  (None, 39, 39, 64)       0         \n",
            " )                                                               \n",
            "                                                                 \n",
            " dropout (Dropout)           (None, 39, 39, 64)        0         \n",
            "                                                                 \n",
            " flatten (Flatten)           (None, 97344)             0         \n",
            "                                                                 \n",
            " dense (Dense)               (None, 128)               12460160  \n",
            "                                                                 \n",
            " dropout_1 (Dropout)         (None, 128)               0         \n",
            "                                                                 \n",
            " dense_1 (Dense)             (None, 17)                2193      \n",
            "                                                                 \n",
            "=================================================================\n",
            "Total params: 12,481,745\n",
            "Trainable params: 12,481,745\n",
            "Non-trainable params: 0\n",
            "_________________________________________________________________\n"
          ]
        }
      ],
      "source": [
        "model.summary()"
      ]
    },
    {
      "cell_type": "markdown",
      "metadata": {
        "id": "Lt8eo_QYmqss"
      },
      "source": [
        "# Entrenar el modelo con nuestro Dataset"
      ]
    },
    {
      "cell_type": "markdown",
      "metadata": {
        "id": "GsV7uD0zmqst"
      },
      "source": [
        "Se ha definido la variable callbacks para definir el Early Stopping y para que guarde los weights."
      ]
    },
    {
      "cell_type": "code",
      "execution_count": 9,
      "metadata": {
        "id": "3KupG2jPmqst"
      },
      "outputs": [],
      "source": [
        "history = History()\n",
        "callbacks = [history, \n",
        "             EarlyStopping(monitor='val_loss', patience=3, verbose=1, min_delta=1e-4),\n",
        "             ModelCheckpoint(filepath='data/weights.best.hdf5', verbose=1, save_best_only=True, \n",
        "                             save_weights_only=True, mode='auto')]"
      ]
    },
    {
      "cell_type": "markdown",
      "metadata": {
        "id": "ApqxnBv1mqst"
      },
      "source": [
        "Ahora, es el momento de entrenar el modelo. Se ha utilizado el optamizer de Adam."
      ]
    },
    {
      "cell_type": "code",
      "source": [
        "model.compile(loss='binary_crossentropy', # We NEED binary here, since categorical_crossentropy l1 norms the output before calculating loss.\n",
        "              optimizer='adam',\n",
        "              metrics=['acc'])\n",
        "              \n",
        "model.fit(x_train, y_train,\n",
        "          batch_size=128,\n",
        "          epochs=4,\n",
        "          verbose=1,\n",
        "          validation_data=(x_val, y_val),\n",
        "          callbacks = callbacks)"
      ],
      "metadata": {
        "colab": {
          "base_uri": "https://localhost:8080/"
        },
        "id": "8lo2kcOku7nE",
        "outputId": "5dd5d9f4-9d98-44b3-c6e0-bba0da1b5095"
      },
      "execution_count": 24,
      "outputs": [
        {
          "output_type": "stream",
          "name": "stdout",
          "text": [
            "Epoch 1/10\n",
            "228/228 [==============================] - ETA: 0s - loss: 0.2680 - acc: 0.6812\n",
            "Epoch 1: val_loss improved from inf to 0.20819, saving model to data/weights.best.hdf5\n",
            "228/228 [==============================] - 43s 139ms/step - loss: 0.2680 - acc: 0.6812 - val_loss: 0.2082 - val_acc: 0.7508\n",
            "Epoch 2/10\n",
            "228/228 [==============================] - ETA: 0s - loss: 0.2193 - acc: 0.7324\n",
            "Epoch 2: val_loss improved from 0.20819 to 0.19361, saving model to data/weights.best.hdf5\n",
            "228/228 [==============================] - 28s 123ms/step - loss: 0.2193 - acc: 0.7324 - val_loss: 0.1936 - val_acc: 0.7566\n",
            "Epoch 3/10\n",
            "228/228 [==============================] - ETA: 0s - loss: 0.2052 - acc: 0.7311\n",
            "Epoch 3: val_loss improved from 0.19361 to 0.18397, saving model to data/weights.best.hdf5\n",
            "228/228 [==============================] - 28s 125ms/step - loss: 0.2052 - acc: 0.7311 - val_loss: 0.1840 - val_acc: 0.7475\n",
            "Epoch 4/10\n",
            "228/228 [==============================] - ETA: 0s - loss: 0.1965 - acc: 0.7270\n",
            "Epoch 4: val_loss improved from 0.18397 to 0.17870, saving model to data/weights.best.hdf5\n",
            "228/228 [==============================] - 29s 126ms/step - loss: 0.1965 - acc: 0.7270 - val_loss: 0.1787 - val_acc: 0.7469\n",
            "Epoch 5/10\n",
            "228/228 [==============================] - ETA: 0s - loss: 0.1907 - acc: 0.7263\n",
            "Epoch 5: val_loss improved from 0.17870 to 0.17376, saving model to data/weights.best.hdf5\n",
            "228/228 [==============================] - 28s 124ms/step - loss: 0.1907 - acc: 0.7263 - val_loss: 0.1738 - val_acc: 0.7367\n",
            "Epoch 6/10\n",
            "228/228 [==============================] - ETA: 0s - loss: 0.1853 - acc: 0.7282\n",
            "Epoch 6: val_loss did not improve from 0.17376\n",
            "228/228 [==============================] - 28s 123ms/step - loss: 0.1853 - acc: 0.7282 - val_loss: 0.1744 - val_acc: 0.7435\n",
            "Epoch 7/10\n",
            "228/228 [==============================] - ETA: 0s - loss: 0.1791 - acc: 0.7246\n",
            "Epoch 7: val_loss improved from 0.17376 to 0.16558, saving model to data/weights.best.hdf5\n",
            "228/228 [==============================] - 28s 124ms/step - loss: 0.1791 - acc: 0.7246 - val_loss: 0.1656 - val_acc: 0.7538\n",
            "Epoch 8/10\n",
            "228/228 [==============================] - ETA: 0s - loss: 0.1761 - acc: 0.7152\n",
            "Epoch 8: val_loss improved from 0.16558 to 0.16248, saving model to data/weights.best.hdf5\n",
            "228/228 [==============================] - 28s 124ms/step - loss: 0.1761 - acc: 0.7152 - val_loss: 0.1625 - val_acc: 0.7530\n",
            "Epoch 9/10\n",
            "228/228 [==============================] - ETA: 0s - loss: 0.1706 - acc: 0.7121\n",
            "Epoch 9: val_loss improved from 0.16248 to 0.16029, saving model to data/weights.best.hdf5\n",
            "228/228 [==============================] - 28s 124ms/step - loss: 0.1706 - acc: 0.7121 - val_loss: 0.1603 - val_acc: 0.7475\n",
            "Epoch 10/10\n",
            "228/228 [==============================] - ETA: 0s - loss: 0.1671 - acc: 0.7065\n",
            "Epoch 10: val_loss did not improve from 0.16029\n",
            "228/228 [==============================] - 28s 124ms/step - loss: 0.1671 - acc: 0.7065 - val_loss: 0.1615 - val_acc: 0.7158\n"
          ]
        },
        {
          "output_type": "execute_result",
          "data": {
            "text/plain": [
              "<keras.callbacks.History at 0x7f0df5b6e790>"
            ]
          },
          "metadata": {},
          "execution_count": 24
        }
      ]
    },
    {
      "cell_type": "code",
      "execution_count": 25,
      "metadata": {
        "id": "nwoSPw4cmqsu"
      },
      "outputs": [],
      "source": [
        "from matplotlib import pyplot as plt"
      ]
    },
    {
      "cell_type": "code",
      "source": [
        "history.history"
      ],
      "metadata": {
        "colab": {
          "base_uri": "https://localhost:8080/"
        },
        "id": "1Y_1TfWJ0ldb",
        "outputId": "cea52096-57f3-409a-dce6-6cc82bea212c"
      },
      "execution_count": 26,
      "outputs": [
        {
          "output_type": "execute_result",
          "data": {
            "text/plain": [
              "{'acc': [0.6811693906784058,\n",
              "  0.7324320673942566,\n",
              "  0.7310595512390137,\n",
              "  0.7270449995994568,\n",
              "  0.7262901663780212,\n",
              "  0.7282116413116455,\n",
              "  0.7245745062828064,\n",
              "  0.7151729464530945,\n",
              "  0.7121191620826721,\n",
              "  0.7064576148986816],\n",
              " 'loss': [0.2680439352989197,\n",
              "  0.219281405210495,\n",
              "  0.20520532131195068,\n",
              "  0.1964750736951828,\n",
              "  0.19070544838905334,\n",
              "  0.18534459173679352,\n",
              "  0.179092675447464,\n",
              "  0.17607200145721436,\n",
              "  0.1706428825855255,\n",
              "  0.1671372652053833],\n",
              " 'val_acc': [0.7507891058921814,\n",
              "  0.7565527558326721,\n",
              "  0.7474955320358276,\n",
              "  0.7469466328620911,\n",
              "  0.7366543412208557,\n",
              "  0.7435158491134644,\n",
              "  0.7538081407546997,\n",
              "  0.7529847621917725,\n",
              "  0.7474955320358276,\n",
              "  0.7157952785491943],\n",
              " 'val_loss': [0.20819461345672607,\n",
              "  0.19360828399658203,\n",
              "  0.18396662175655365,\n",
              "  0.17869816720485687,\n",
              "  0.17376074194908142,\n",
              "  0.1743645966053009,\n",
              "  0.16557817161083221,\n",
              "  0.16248342394828796,\n",
              "  0.16029202938079834,\n",
              "  0.16149409115314484]}"
            ]
          },
          "metadata": {},
          "execution_count": 26
        }
      ]
    },
    {
      "cell_type": "code",
      "execution_count": 27,
      "metadata": {
        "id": "d-DCSYIYE-IE",
        "outputId": "ac3b5537-f685-49d1-f6cc-6382ecf265e9",
        "colab": {
          "base_uri": "https://localhost:8080/",
          "height": 544
        }
      },
      "outputs": [
        {
          "output_type": "display_data",
          "data": {
            "text/plain": [
              "<Figure size 432x288 with 1 Axes>"
            ],
            "image/png": "[encoded data removed]"
          },
          "metadata": {
            "needs_background": "light"
          }
        },
        {
          "output_type": "display_data",
          "data": {
            "text/plain": [
              "<Figure size 432x288 with 1 Axes>"
            ],
            "image/png": "[encoded data removed]"
          },
          "metadata": {
            "needs_background": "light"
          }
        }
      ],
      "source": [
        "acc = history.history['acc']\n",
        "val_acc = history.history['val_acc']\n",
        "loss = history.history['loss']\n",
        "val_loss = history.history['val_loss']\n",
        "\n",
        "epochs = range(len(acc))\n",
        "\n",
        "plt.plot(epochs, acc, 'bo', label='Training acc')\n",
        "plt.plot(epochs, val_acc, 'b', label='Validation acc')\n",
        "plt.title('Training and validation accuracy')\n",
        "plt.legend()\n",
        "\n",
        "plt.figure()\n",
        "\n",
        "plt.plot(epochs, loss, 'bo', label='Training loss')\n",
        "plt.plot(epochs, val_loss, 'b', label='Validation loss')\n",
        "plt.title('Training and validation loss')\n",
        "plt.legend()\n",
        "\n",
        "plt.show()"
      ]
    },
    {
      "cell_type": "markdown",
      "metadata": {
        "id": "_B1NHZT5mqsu"
      },
      "source": [
        "# Evaluación:"
      ]
    },
    {
      "cell_type": "code",
      "execution_count": 28,
      "metadata": {
        "id": "98DxQlFLE-IX",
        "outputId": "59554934-5981-43d8-d0d1-baa0686e8ad5",
        "colab": {
          "base_uri": "https://localhost:8080/"
        }
      },
      "outputs": [
        {
          "output_type": "stream",
          "name": "stdout",
          "text": [
            "127/127 - 2s - loss: 0.1624 - acc: 0.7189 - 2s/epoch - 16ms/step\n",
            "test acc: 0.7188735008239746\n"
          ]
        }
      ],
      "source": [
        "test_loss, test_acc = model.evaluate(x_test, y_test, verbose=2)\n",
        "print('test acc:', test_acc)"
      ]
    },
    {
      "cell_type": "markdown",
      "source": [
        "Aun probando diferentes parametros, no hemos conseguido subir más el accuracy. Por eso tratamos de disminuir el input_size para que el modelo aprendiese mejor. "
      ],
      "metadata": {
        "id": "9wpKKyGWGCce"
      }
    },
    {
      "cell_type": "markdown",
      "metadata": {
        "id": "V_yFJRLqFM1c"
      },
      "source": [
        "# Entrenar el modelo con size (32,32)"
      ]
    },
    {
      "cell_type": "code",
      "execution_count": 3,
      "metadata": {
        "id": "Ht1a3pR6mqsv"
      },
      "outputs": [],
      "source": [
        "with open('data/x_train_32.npy', 'rb') as f:\n",
        "    x_train = np.load(f)\n",
        "with open('data/y_train_32.npy', 'rb') as f:\n",
        "    y_train = np.load(f)"
      ]
    },
    {
      "cell_type": "code",
      "source": [
        "x_train, x_test, y_train, y_test = train_test_split(x_train, y_train, test_size=0.1, random_state=1)\n",
        "\n",
        "x_train, x_val, y_train, y_val  = train_test_split(x_train, y_train, test_size=0.2, random_state=1)"
      ],
      "metadata": {
        "id": "_-DzmEuE62Ka"
      },
      "execution_count": 4,
      "outputs": []
    },
    {
      "cell_type": "code",
      "source": [
        "model2 = models.Sequential()\n",
        "model2.add(Conv2D(32, kernel_size=(3, 3),\n",
        "                 activation='relu',\n",
        "                 input_shape=(32, 32, 3)))\n",
        "\n",
        "model2.add(Conv2D(64, (3, 3), activation='relu'))\n",
        "model2.add(MaxPooling2D(pool_size=(2, 2)))\n",
        "model2.add(layers.Dropout(0.25))\n",
        "model2.add(layers.Flatten())\n",
        "model2.add(layers.Dense(128, activation='relu'))\n",
        "model2.add(layers.Dropout(0.5))\n",
        "model2.add(layers.Dense(17, activation='sigmoid'))"
      ],
      "metadata": {
        "id": "HUL94Cpq8hfi"
      },
      "execution_count": 5,
      "outputs": []
    },
    {
      "cell_type": "code",
      "source": [
        "history = History()\n",
        "callbacks = [history, \n",
        "             EarlyStopping(monitor='val_loss', patience=3, verbose=1, min_delta=1e-4),\n",
        "             ModelCheckpoint(filepath='data/weights.best.hdf5', verbose=1, save_best_only=True, \n",
        "                             save_weights_only=True, mode='auto')]"
      ],
      "metadata": {
        "id": "Paa8k7uHBlC0"
      },
      "execution_count": 6,
      "outputs": []
    },
    {
      "cell_type": "code",
      "execution_count": 7,
      "metadata": {
        "colab": {
          "base_uri": "https://localhost:8080/"
        },
        "id": "o1Pr7Lqjmqsw",
        "outputId": "2bb39e10-0685-4d7e-b36b-cd376148a692"
      },
      "outputs": [
        {
          "output_type": "stream",
          "name": "stdout",
          "text": [
            "Epoch 1/4\n",
            "228/228 [==============================] - ETA: 0s - loss: 0.2566 - acc: 0.0221\n",
            "Epoch 1: val_loss improved from inf to 0.20760, saving model to data/weights.best.hdf5\n",
            "228/228 [==============================] - 7s 23ms/step - loss: 0.2566 - acc: 0.0221 - val_loss: 0.2076 - val_acc: 0.0224\n",
            "Epoch 2/4\n",
            "226/228 [============================>.] - ETA: 0s - loss: 0.2113 - acc: 0.0252\n",
            "Epoch 2: val_loss improved from 0.20760 to 0.19020, saving model to data/weights.best.hdf5\n",
            "228/228 [==============================] - 4s 20ms/step - loss: 0.2112 - acc: 0.0252 - val_loss: 0.1902 - val_acc: 0.0232\n",
            "Epoch 3/4\n",
            "226/228 [============================>.] - ETA: 0s - loss: 0.1989 - acc: 0.0325\n",
            "Epoch 3: val_loss improved from 0.19020 to 0.18013, saving model to data/weights.best.hdf5\n",
            "228/228 [==============================] - 4s 20ms/step - loss: 0.1987 - acc: 0.0325 - val_loss: 0.1801 - val_acc: 0.0309\n",
            "Epoch 4/4\n",
            "226/228 [============================>.] - ETA: 0s - loss: 0.1882 - acc: 0.0398\n",
            "Epoch 4: val_loss improved from 0.18013 to 0.17829, saving model to data/weights.best.hdf5\n",
            "228/228 [==============================] - 5s 21ms/step - loss: 0.1880 - acc: 0.0397 - val_loss: 0.1783 - val_acc: 0.0447\n"
          ]
        },
        {
          "output_type": "execute_result",
          "data": {
            "text/plain": [
              "<keras.callbacks.History at 0x7fb298547550>"
            ]
          },
          "metadata": {},
          "execution_count": 7
        }
      ],
      "source": [
        "model2.compile(loss='binary_crossentropy', # We NEED binary here, since categorical_crossentropy l1 norms the output before calculating loss.\n",
        "              optimizer='adam',\n",
        "              metrics=['acc'])\n",
        "              \n",
        "model2.fit(x_train, y_train,\n",
        "          batch_size=128,\n",
        "          epochs=4,\n",
        "          verbose=1,\n",
        "          validation_data=(x_val, y_val),\n",
        "          callbacks = callbacks)"
      ]
    },
    {
      "cell_type": "markdown",
      "source": [
        "Como se observa, el accuracy en el modelo donde se ha realizado un resize de 32x32 es muy bajo. No hemos tenido tiempo de averiguar la razón. Como pasos futuros se podría analizar en más profundidad."
      ],
      "metadata": {
        "id": "EoCTY-Yt-zBg"
      }
    }
  ],
  "metadata": {
    "colab": {
      "collapsed_sections": [],
      "name": "keras.ipynb",
      "provenance": []
    },
    "kernelspec": {
      "display_name": "tfm",
      "language": "python",
      "name": "tfm"
    },
    "language_info": {
      "codemirror_mode": {
        "name": "ipython",
        "version": 3
      },
      "file_extension": ".py",
      "mimetype": "text/x-python",
      "name": "python",
      "nbconvert_exporter": "python",
      "pygments_lexer": "ipython3",
      "version": "3.9.7"
    },
    "accelerator": "GPU"
  },
  "nbformat": 4,
  "nbformat_minor": 0
}