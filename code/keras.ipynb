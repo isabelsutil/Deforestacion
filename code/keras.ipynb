{
 "cells": [
  {
   "cell_type": "markdown",
   "metadata": {},
   "source": [
    "# Image Multiclassification with Keras: Planet understanding the amazon from space"
   ]
  },
  {
   "cell_type": "markdown",
   "metadata": {},
   "source": [
    "En este notebook se encuentra el código del modelo realizado utilizando las funciones de la librería Keras de Tensorflow. Primero se han procesado y preparado los datos. Despues, se ha definido el arquitectura que va a tener el modelo. A continuación, se ha entrenado el modelo con nuestro dataset. Y, por último se ha realizado la evaluación."
   ]
  },
  {
   "cell_type": "markdown",
   "metadata": {},
   "source": [
    "## IMPORTS:"
   ]
  },
  {
   "cell_type": "code",
   "execution_count": 4,
   "metadata": {
    "executionInfo": {
     "elapsed": 3892,
     "status": "ok",
     "timestamp": 1650467905917,
     "user": {
      "displayName": "Ana Blasi Sanchiz",
      "userId": "06521881660188386515"
     },
     "user_tz": -120
    },
    "id": "1EW5zYWHE-He"
   },
   "outputs": [],
   "source": [
    "import tensorflow.keras\n",
    "#keras.__version__\n",
    "import tensorflow as tf\n",
    "from sklearn.model_selection import train_test_split\n",
    "from keras.callbacks import ModelCheckpoint, EarlyStopping, ReduceLROnPlateau, History\n",
    "import pandas as pd\n",
    "import tqdm\n",
    "import numpy as np\n",
    "#import cv2\n",
    "from keras.layers import BatchNormalization\n",
    "from keras.layers import Conv2D, MaxPooling2D\n",
    "from keras import models\n",
    "from keras import layers\n",
    "from tensorflow.keras.applications import resnet\n",
    "from tqdm import tqdm\n",
    "import os\n",
    "from matplotlib import pyplot as plt"
   ]
  },
  {
   "cell_type": "markdown",
   "metadata": {},
   "source": [
    "## Procesamiento de datos:"
   ]
  },
  {
   "cell_type": "markdown",
   "metadata": {},
   "source": [
    "Se han tenido bastantes problemas a la hora de procesar los datos debido a como estaban estructurados y porque nosotros teníamos un problema de multiclasificación. \n",
    "\n",
    "Como se ha comentado anteriormente en el análisis exploratorio, se tenía un csv que contenía una columna con el nombre de las imágenes y otra con los levels. \n",
    "\n",
    "Para adaptar las especificaciones de los argumentos de la función de Keras que generaba y procesaba \n",
    "**(train_datagen.flow_from_dataframe)** se ha tenido que cambiar el csv de train."
   ]
  },
  {
   "cell_type": "code",
   "execution_count": null,
   "metadata": {},
   "outputs": [],
   "source": [
    "train = pd.read_csv(\"../data/csv_tags/train_v2.csv\")"
   ]
  },
  {
   "cell_type": "code",
   "execution_count": null,
   "metadata": {},
   "outputs": [],
   "source": [
    "train['tags'] = train['tags'].str.split(' ')"
   ]
  },
  {
   "cell_type": "code",
   "execution_count": null,
   "metadata": {},
   "outputs": [],
   "source": [
    "TAGS = [\n",
    "    \"agriculture\",\n",
    "    \"artisinal_mine\",\n",
    "    \"bare_ground\",\n",
    "    \"blooming\",\n",
    "    \"blow_down\",\n",
    "    \"clear\",\n",
    "    \"cloudy\",\n",
    "    \"conventional_mine\",\n",
    "    \"cultivation\",\n",
    "    \"habitation\",\n",
    "    \"haze\",\n",
    "    \"partly_cloudy\",\n",
    "    \"primary\",\n",
    "    \"road\",\n",
    "    \"selective_logging\",\n",
    "    \"slash_burn\",\n",
    "    \"water\",\n",
    "]"
   ]
  },
  {
   "cell_type": "code",
   "execution_count": null,
   "metadata": {},
   "outputs": [],
   "source": [
    "def comprobar(df,TAGS):\n",
    "    for i in range(len(df)):\n",
    "        tags = df.iloc[i,1]\n",
    "        for t in tags:\n",
    "            train[t][i] = 1"
   ]
  },
  {
   "cell_type": "code",
   "execution_count": null,
   "metadata": {},
   "outputs": [],
   "source": [
    "comprobar(train,TAGS)"
   ]
  },
  {
   "cell_type": "code",
   "execution_count": null,
   "metadata": {},
   "outputs": [],
   "source": [
    "training_data = train.sample(frac=0.8, random_state=25)\n",
    "validating_data = train.drop(training_data.index)"
   ]
  },
  {
   "cell_type": "markdown",
   "metadata": {},
   "source": [
    "A pesar de todo este procesamiento, da error cuando se ejecuta las funciones de Keras para procesar y generar los datos. El código era el siguiente."
   ]
  },
  {
   "cell_type": "markdown",
   "metadata": {},
   "source": [
    "``` from keras.preprocessing.image import ImageDataGenerator```\n",
    "\n",
    "```train_datagen = ImageDataGenerator(\n",
    "      rescale=1./255,\n",
    "      rotation_range=40,\n",
    "      width_shift_range=0.2,\n",
    "      height_shift_range=0.2,\n",
    "      shear_range=0.2,\n",
    "      zoom_range=0.2,\n",
    "      horizontal_flip=True,\n",
    "      fill_mode='nearest')```\n",
    "\n",
    "```# Note that the validation data should not be augmented!```\n",
    "```test_datagen = ImageDataGenerator(rescale=1./255)```\n",
    "\n",
    "```train_generator = train_datagen.flow_from_dataframe(\n",
    "        training_data,\n",
    "        path_train,\n",
    "        x_col='image_name', y_col=TAGS,\n",
    "        # This is the target directory\n",
    "        # All images will be resized to 150x150\n",
    "        target_size=(150, 150),\n",
    "        batch_size=20,\n",
    "        # Since we use binary_crossentropy loss, we need binary labels\n",
    "        class_mode='multi_output')```\n",
    "\n",
    "```validation_generator = test_datagen.flow_from_dataframe(\n",
    "        validating_data,\n",
    "        path_train,\n",
    "        x_col='image_name', y_col=TAGS,\n",
    "        target_size=(150, 150),\n",
    "        batch_size=20,\n",
    "        class_mode='multi_output')```"
   ]
  },
  {
   "cell_type": "markdown",
   "metadata": {},
   "source": [
    "También se habia intentado guardar las imágenes en carpetas según sus respectivos labels."
   ]
  },
  {
   "cell_type": "markdown",
   "metadata": {},
   "source": [
    "```path_validation =\"../data/validation_fotos\" ```\n",
    "\n",
    "```path_train =\"../data/train_fotos\" ```"
   ]
  },
  {
   "cell_type": "code",
   "execution_count": null,
   "metadata": {},
   "outputs": [],
   "source": [
    "def guardar_en_carpetas(path,df):\n",
    "    l2 = []\n",
    "    for foto,label in df.values:\n",
    "        path_fotos=\"../data/train_jpg\"\n",
    "        for l in label:\n",
    "            if not os.path.exists(f\"{path}/{l}\"): os.mkdir(f\"{path}/{l}\")\n",
    "            if not os.path.exists( f\"{path_train}/{foto}\"): l2.append(foto)\n",
    "      #shutil.move(f\"{path_fotos}/{foto}.jpg\", f\"{path}/{foto}.jpg\")\n",
    "      #if os.path.exists(f\"{path}/{foto}\"): print(\"bien!\")\n",
    "    return l2"
   ]
  },
  {
   "cell_type": "markdown",
   "metadata": {},
   "source": [
    "```fotos_no1 = guardar_en_carpetas(path_validation,validating_data)```\n",
    "\n",
    "```fotos_no2 = guardar_en_carpetas(path_train,training_data)```"
   ]
  },
  {
   "cell_type": "markdown",
   "metadata": {},
   "source": [
    "Tampoco en este caso hemos conseguido que funcionara el código de Keras adaptado para que coja las imágenes desde el directorio."
   ]
  },
  {
   "cell_type": "markdown",
   "metadata": {},
   "source": [
    "Al final, se decidió que en lugar de procesar imágenes, se procesaría los vectores de las imágenes. Para la variable de y_train se ha definido con label_map."
   ]
  },
  {
   "cell_type": "code",
   "execution_count": 5,
   "metadata": {},
   "outputs": [],
   "source": [
    "path_x_train = \"../data/x_train.npy\"\n",
    "path_y_train = \"../data/y_train.npy\"\n",
    "\n",
    "if not os.path.exists(path_x_train) and not os.path.exists(path_y_train):\n",
    "    x_train = []\n",
    "    x_test = []\n",
    "    y_train = []\n",
    "    \n",
    "    df_train = pd.read_csv('../data/csv_tags/train_v2.csv')\n",
    "    \n",
    "    flatten = lambda l: [item for sublist in l for item in sublist]\n",
    "    labels = list(set(flatten([l.split(' ') for l in df_train['tags'].values])))\n",
    "    \n",
    "    label_map = {l: i for i, l in enumerate(labels)}\n",
    "    inv_label_map = {i: l for l, i in label_map.items()}\n",
    "    \n",
    "    for f, tags in tqdm(df_train.values, miniters=1000):\n",
    "        img = cv2.imread('../data/train-jpg/{}.jpg'.format(f))\n",
    "        targets = np.zeros(17)\n",
    "        for t in tags.split(' '):\n",
    "            targets[label_map[t]] = 1 \n",
    "        x_train.append(cv2.resize(img, (32, 32)))\n",
    "        y_train.append(targets)\n",
    "        \n",
    "    y_train = np.array(y_train, np.uint8)\n",
    "    x_train = np.array(x_train, np.float16) / 255.\n",
    "    \n",
    "    print(x_train.shape)\n",
    "    print(y_train.shape)\n",
    "    \n",
    "    with open(path_x_train, 'wb') as f:\n",
    "        np.save(f, x_train)\n",
    "    with open(path_y_train, 'wb') as f:\n",
    "        np.save(f, y_train)"
   ]
  },
  {
   "cell_type": "markdown",
   "metadata": {},
   "source": [
    "Se carga los array de y_train y x_train."
   ]
  },
  {
   "cell_type": "code",
   "execution_count": 24,
   "metadata": {},
   "outputs": [],
   "source": [
    "with open('../data/x_train.npy', 'rb') as f:\n",
    "    x_train = np.load(f)\n",
    "with open('../data/y_train.npy', 'rb') as f:\n",
    "    y_train = np.load(f)"
   ]
  },
  {
   "cell_type": "code",
   "execution_count": 7,
   "metadata": {
    "collapsed": true,
    "jupyter": {
     "outputs_hidden": true
    }
   },
   "outputs": [
    {
     "data": {
      "text/plain": [
       "array([[[[0.4119, 0.4353, 0.3765],\n",
       "         [0.408 , 0.4353, 0.3687],\n",
       "         [0.4158, 0.4392, 0.3804],\n",
       "         ...,\n",
       "         [0.392 , 0.4392, 0.3647],\n",
       "         [0.4   , 0.4236, 0.357 ],\n",
       "         [0.4   , 0.4197, 0.357 ]],\n",
       "\n",
       "        [[0.408 , 0.4158, 0.3608],\n",
       "         [0.4038, 0.4392, 0.353 ],\n",
       "         [0.4038, 0.4314, 0.357 ],\n",
       "         ...,\n",
       "         [0.4119, 0.443 , 0.349 ],\n",
       "         [0.396 , 0.4197, 0.3372],\n",
       "         [0.392 , 0.4197, 0.3372]],\n",
       "\n",
       "        [[0.4   , 0.4236, 0.3608],\n",
       "         [0.4038, 0.4236, 0.357 ],\n",
       "         [0.4119, 0.4236, 0.349 ],\n",
       "         ...,\n",
       "         [0.4   , 0.4197, 0.353 ],\n",
       "         [0.4038, 0.4275, 0.3452],\n",
       "         [0.3882, 0.4119, 0.349 ]],\n",
       "\n",
       "        ...,\n",
       "\n",
       "        [[0.4119, 0.4275, 0.357 ],\n",
       "         [0.408 , 0.4197, 0.3687],\n",
       "         [0.4197, 0.4392, 0.3687],\n",
       "         ...,\n",
       "         [0.4158, 0.4314, 0.3647],\n",
       "         [0.4038, 0.4314, 0.353 ],\n",
       "         [0.408 , 0.4314, 0.3726]],\n",
       "\n",
       "        [[0.4119, 0.4314, 0.3608],\n",
       "         [0.4158, 0.4314, 0.3726],\n",
       "         [0.4197, 0.447 , 0.3804],\n",
       "         ...,\n",
       "         [0.4197, 0.443 , 0.3804],\n",
       "         [0.4   , 0.4275, 0.357 ],\n",
       "         [0.4119, 0.4353, 0.3647]],\n",
       "\n",
       "        [[0.4197, 0.447 , 0.3843],\n",
       "         [0.4119, 0.4353, 0.3608],\n",
       "         [0.4197, 0.443 , 0.3726],\n",
       "         ...,\n",
       "         [0.4158, 0.4392, 0.357 ],\n",
       "         [0.4119, 0.447 , 0.3687],\n",
       "         [0.396 , 0.4158, 0.3293]]],\n",
       "\n",
       "\n",
       "       [[[0.251 , 0.2783, 0.2354],\n",
       "         [0.204 , 0.255 , 0.204 ],\n",
       "         [0.255 , 0.3098, 0.255 ],\n",
       "         ...,\n",
       "         [0.2235, 0.2471, 0.2   ],\n",
       "         [0.2783, 0.353 , 0.2903],\n",
       "         [0.2588, 0.2825, 0.2471]],\n",
       "\n",
       "        [[0.2588, 0.3098, 0.2705],\n",
       "         [0.2588, 0.2903, 0.2432],\n",
       "         [0.2432, 0.2903, 0.2471],\n",
       "         ...,\n",
       "         [0.2471, 0.255 , 0.2196],\n",
       "         [0.2627, 0.306 , 0.2744],\n",
       "         [0.255 , 0.3452, 0.2783]],\n",
       "\n",
       "        [[0.251 , 0.2942, 0.251 ],\n",
       "         [0.2705, 0.3215, 0.2744],\n",
       "         [0.255 , 0.298 , 0.2588],\n",
       "         ...,\n",
       "         [0.2313, 0.2705, 0.2235],\n",
       "         [0.255 , 0.2666, 0.2354],\n",
       "         [0.2588, 0.3215, 0.2666]],\n",
       "\n",
       "        ...,\n",
       "\n",
       "        [[0.3215, 0.4353, 0.4119],\n",
       "         [0.3176, 0.443 , 0.4158],\n",
       "         [0.3098, 0.396 , 0.3687],\n",
       "         ...,\n",
       "         [0.251 , 0.2744, 0.2274],\n",
       "         [0.2432, 0.2864, 0.2274],\n",
       "         [0.255 , 0.2783, 0.2235]],\n",
       "\n",
       "        [[0.3254, 0.4392, 0.396 ],\n",
       "         [0.3176, 0.4197, 0.396 ],\n",
       "         [0.3215, 0.4197, 0.3726],\n",
       "         ...,\n",
       "         [0.2354, 0.2313, 0.2   ],\n",
       "         [0.2471, 0.2744, 0.2432],\n",
       "         [0.2196, 0.2588, 0.2157]],\n",
       "\n",
       "        [[0.3215, 0.4275, 0.396 ],\n",
       "         [0.3372, 0.4275, 0.392 ],\n",
       "         [0.3137, 0.4197, 0.392 ],\n",
       "         ...,\n",
       "         [0.2471, 0.2354, 0.2   ],\n",
       "         [0.2627, 0.306 , 0.2471],\n",
       "         [0.251 , 0.2942, 0.2666]]],\n",
       "\n",
       "\n",
       "       [[[0.2274, 0.2313, 0.1804],\n",
       "         [0.2274, 0.2079, 0.1608],\n",
       "         [0.2196, 0.2393, 0.1804],\n",
       "         ...,\n",
       "         [0.2235, 0.2196, 0.1608],\n",
       "         [0.2274, 0.2313, 0.1569],\n",
       "         [0.2313, 0.2588, 0.196 ]],\n",
       "\n",
       "        [[0.2157, 0.2274, 0.1765],\n",
       "         [0.2235, 0.2354, 0.1882],\n",
       "         [0.2393, 0.255 , 0.2   ],\n",
       "         ...,\n",
       "         [0.2196, 0.2471, 0.1921],\n",
       "         [0.2196, 0.2432, 0.1765],\n",
       "         [0.2235, 0.2274, 0.1686]],\n",
       "\n",
       "        [[0.2196, 0.2354, 0.1686],\n",
       "         [0.2157, 0.2313, 0.1765],\n",
       "         [0.2196, 0.2235, 0.1569],\n",
       "         ...,\n",
       "         [0.2313, 0.2393, 0.1843],\n",
       "         [0.2235, 0.2313, 0.196 ],\n",
       "         [0.2274, 0.2393, 0.1686]],\n",
       "\n",
       "        ...,\n",
       "\n",
       "        [[0.255 , 0.2744, 0.196 ],\n",
       "         [0.2313, 0.2235, 0.1686],\n",
       "         [0.2432, 0.2471, 0.1765],\n",
       "         ...,\n",
       "         [0.2196, 0.2118, 0.1608],\n",
       "         [0.2393, 0.2588, 0.2   ],\n",
       "         [0.2235, 0.2274, 0.1726]],\n",
       "\n",
       "        [[0.2196, 0.2354, 0.1843],\n",
       "         [0.2196, 0.2235, 0.1569],\n",
       "         [0.2432, 0.2235, 0.1882],\n",
       "         ...,\n",
       "         [0.2274, 0.2079, 0.149 ],\n",
       "         [0.2196, 0.2118, 0.1451],\n",
       "         [0.2196, 0.2313, 0.1608]],\n",
       "\n",
       "        [[0.2157, 0.2235, 0.1726],\n",
       "         [0.251 , 0.2627, 0.2   ],\n",
       "         [0.2157, 0.204 , 0.149 ],\n",
       "         ...,\n",
       "         [0.2393, 0.2354, 0.1804],\n",
       "         [0.2393, 0.2354, 0.1882],\n",
       "         [0.2235, 0.2   , 0.1372]]],\n",
       "\n",
       "\n",
       "       ...,\n",
       "\n",
       "\n",
       "       [[[0.2157, 0.349 , 0.4158],\n",
       "         [0.1608, 0.2744, 0.3254],\n",
       "         [0.1294, 0.2471, 0.302 ],\n",
       "         ...,\n",
       "         [0.1255, 0.2354, 0.3176],\n",
       "         [0.1098, 0.2274, 0.298 ],\n",
       "         [0.0706, 0.153 , 0.2196]],\n",
       "\n",
       "        [[0.204 , 0.3608, 0.4197],\n",
       "         [0.153 , 0.2666, 0.3254],\n",
       "         [0.153 , 0.2783, 0.3215],\n",
       "         ...,\n",
       "         [0.1608, 0.2744, 0.353 ],\n",
       "         [0.0941, 0.2079, 0.2705],\n",
       "         [0.0902, 0.2   , 0.2627]],\n",
       "\n",
       "        [[0.2235, 0.349 , 0.4392],\n",
       "         [0.1569, 0.2627, 0.3293],\n",
       "         [0.1608, 0.2783, 0.3372],\n",
       "         ...,\n",
       "         [0.098 , 0.1882, 0.2588],\n",
       "         [0.102 , 0.196 , 0.251 ],\n",
       "         [0.102 , 0.204 , 0.2783]],\n",
       "\n",
       "        ...,\n",
       "\n",
       "        [[0.1216, 0.2235, 0.2744],\n",
       "         [0.1294, 0.2313, 0.2864],\n",
       "         [0.1333, 0.2274, 0.2864],\n",
       "         ...,\n",
       "         [0.1216, 0.2235, 0.2825],\n",
       "         [0.1098, 0.2235, 0.2744],\n",
       "         [0.1333, 0.2471, 0.3098]],\n",
       "\n",
       "        [[0.1333, 0.2313, 0.2903],\n",
       "         [0.1177, 0.2157, 0.2744],\n",
       "         [0.1333, 0.2274, 0.2744],\n",
       "         ...,\n",
       "         [0.1216, 0.2274, 0.2903],\n",
       "         [0.1216, 0.2393, 0.306 ],\n",
       "         [0.1059, 0.2   , 0.255 ]],\n",
       "\n",
       "        [[0.1333, 0.2354, 0.2864],\n",
       "         [0.1216, 0.2196, 0.2744],\n",
       "         [0.1255, 0.2157, 0.2783],\n",
       "         ...,\n",
       "         [0.0902, 0.204 , 0.2471],\n",
       "         [0.0902, 0.1726, 0.2313],\n",
       "         [0.102 , 0.2   , 0.2471]]],\n",
       "\n",
       "\n",
       "       [[[0.4158, 0.5176, 0.533 ],\n",
       "         [0.396 , 0.498 , 0.498 ],\n",
       "         [0.408 , 0.5137, 0.502 ],\n",
       "         ...,\n",
       "         [0.451 , 0.545 , 0.5845],\n",
       "         [0.447 , 0.545 , 0.5728],\n",
       "         [0.408 , 0.498 , 0.5137]],\n",
       "\n",
       "        [[0.4197, 0.506 , 0.5215],\n",
       "         [0.4119, 0.5137, 0.5137],\n",
       "         [0.4197, 0.502 , 0.533 ],\n",
       "         ...,\n",
       "         [0.4   , 0.4902, 0.5176],\n",
       "         [0.4746, 0.565 , 0.604 ],\n",
       "         [0.4353, 0.533 , 0.5527]],\n",
       "\n",
       "        [[0.4038, 0.51  , 0.5137],\n",
       "         [0.408 , 0.506 , 0.5254],\n",
       "         [0.4158, 0.51  , 0.5215],\n",
       "         ...,\n",
       "         [0.4666, 0.569 , 0.6   ],\n",
       "         [0.4392, 0.5293, 0.5527],\n",
       "         [0.451 , 0.5566, 0.5845]],\n",
       "\n",
       "        ...,\n",
       "\n",
       "        [[0.396 , 0.4941, 0.506 ],\n",
       "         [0.4   , 0.4941, 0.51  ],\n",
       "         [0.408 , 0.502 , 0.5137],\n",
       "         ...,\n",
       "         [0.396 , 0.4902, 0.502 ],\n",
       "         [0.4038, 0.4863, 0.5137],\n",
       "         [0.4119, 0.4941, 0.5215]],\n",
       "\n",
       "        [[0.4038, 0.502 , 0.51  ],\n",
       "         [0.408 , 0.51  , 0.506 ],\n",
       "         [0.408 , 0.502 , 0.5137],\n",
       "         ...,\n",
       "         [0.4158, 0.506 , 0.5254],\n",
       "         [0.392 , 0.4863, 0.498 ],\n",
       "         [0.4038, 0.4941, 0.502 ]],\n",
       "\n",
       "        [[0.408 , 0.5215, 0.5254],\n",
       "         [0.4   , 0.51  , 0.5293],\n",
       "         [0.51  , 0.6235, 0.686 ],\n",
       "         ...,\n",
       "         [0.408 , 0.502 , 0.5176],\n",
       "         [0.396 , 0.4902, 0.4941],\n",
       "         [0.396 , 0.4785, 0.4824]]],\n",
       "\n",
       "\n",
       "       [[[0.2903, 0.353 , 0.298 ],\n",
       "         [0.2864, 0.3215, 0.2864],\n",
       "         [0.2471, 0.2627, 0.2196],\n",
       "         ...,\n",
       "         [0.353 , 0.4197, 0.4785],\n",
       "         [0.2393, 0.255 , 0.2196],\n",
       "         [0.2903, 0.3452, 0.3215]],\n",
       "\n",
       "        [[0.2864, 0.353 , 0.2783],\n",
       "         [0.2666, 0.3137, 0.2705],\n",
       "         [0.302 , 0.3452, 0.3176],\n",
       "         ...,\n",
       "         [0.3765, 0.4392, 0.506 ],\n",
       "         [0.2354, 0.2705, 0.2274],\n",
       "         [0.3333, 0.392 , 0.4   ]],\n",
       "\n",
       "        [[0.2903, 0.357 , 0.3215],\n",
       "         [0.306 , 0.3647, 0.349 ],\n",
       "         [0.302 , 0.341 , 0.3215],\n",
       "         ...,\n",
       "         [0.306 , 0.3726, 0.341 ],\n",
       "         [0.2825, 0.3333, 0.302 ],\n",
       "         [0.349 , 0.4158, 0.4392]],\n",
       "\n",
       "        ...,\n",
       "\n",
       "        [[0.2666, 0.2825, 0.255 ],\n",
       "         [0.2432, 0.2627, 0.2157],\n",
       "         [0.251 , 0.2705, 0.2393],\n",
       "         ...,\n",
       "         [0.255 , 0.2666, 0.2274],\n",
       "         [0.2393, 0.2627, 0.2274],\n",
       "         [0.2705, 0.2864, 0.2471]],\n",
       "\n",
       "        [[0.2588, 0.2903, 0.255 ],\n",
       "         [0.2471, 0.2705, 0.2079],\n",
       "         [0.2393, 0.2471, 0.2118],\n",
       "         ...,\n",
       "         [0.2627, 0.302 , 0.2627],\n",
       "         [0.2627, 0.2864, 0.251 ],\n",
       "         [0.2744, 0.3176, 0.2744]],\n",
       "\n",
       "        [[0.251 , 0.2783, 0.2313],\n",
       "         [0.2432, 0.2627, 0.2157],\n",
       "         [0.2588, 0.2825, 0.2393],\n",
       "         ...,\n",
       "         [0.2705, 0.2825, 0.2393],\n",
       "         [0.2666, 0.2783, 0.251 ],\n",
       "         [0.2705, 0.298 , 0.251 ]]]], dtype=float16)"
      ]
     },
     "execution_count": 7,
     "metadata": {},
     "output_type": "execute_result"
    }
   ],
   "source": [
    "x_train"
   ]
  },
  {
   "cell_type": "markdown",
   "metadata": {},
   "source": [
    "Aqui, se separa los datos en train, test y validation."
   ]
  },
  {
   "cell_type": "code",
   "execution_count": 25,
   "metadata": {},
   "outputs": [],
   "source": [
    "x_train, x_test, y_train, y_test = train_test_split(x_train, y_train, test_size=0.1, random_state=1)\n",
    "\n",
    "x_train, x_val, y_train, y_val  = train_test_split(x_train, y_train, test_size=0.2, random_state=1) "
   ]
  },
  {
   "cell_type": "code",
   "execution_count": 26,
   "metadata": {},
   "outputs": [
    {
     "name": "stdout",
     "output_type": "stream",
     "text": [
      "29144 7287 4048\n"
     ]
    }
   ],
   "source": [
    "print(len(x_train) , len(x_val) , len(x_test))"
   ]
  },
  {
   "cell_type": "markdown",
   "metadata": {},
   "source": [
    "## Arquitectura del modelo:"
   ]
  },
  {
   "cell_type": "markdown",
   "metadata": {},
   "source": [
    "Nuestro modelo se ha realizado a partir de un modelo base de ResNet50. A ese modelo se le ha añadido una capa de Flatten y dos de Dense."
   ]
  },
  {
   "cell_type": "markdown",
   "metadata": {},
   "source": [
    "Hemos probado dos input_size (82,82) y (32,32). Entendemos que tendrá que dar mejor resultado el size más pequeño ya que el modelo aprende más facil. Aun asi, los resultados no lo reflejan."
   ]
  },
  {
   "cell_type": "code",
   "execution_count": 28,
   "metadata": {
    "colab": {
     "base_uri": "https://localhost:8080/"
    },
    "executionInfo": {
     "elapsed": 3207,
     "status": "ok",
     "timestamp": 1650469741430,
     "user": {
      "displayName": "Ana Blasi Sanchiz",
      "userId": "06521881660188386515"
     },
     "user_tz": -120
    },
    "id": "PzKdZKiLE-Hl",
    "outputId": "6f1e8621-c825-4e93-a743-f0942779604f"
   },
   "outputs": [],
   "source": [
    "conv_base = resnet.ResNet50(weights='imagenet',\n",
    "                  include_top=False,\n",
    "                  input_shape=(82, 82, 3))"
   ]
  },
  {
   "cell_type": "code",
   "execution_count": 12,
   "metadata": {
    "colab": {
     "base_uri": "https://localhost:8080/"
    },
    "collapsed": true,
    "executionInfo": {
     "elapsed": 2605,
     "status": "ok",
     "timestamp": 1650469779806,
     "user": {
      "displayName": "Ana Blasi Sanchiz",
      "userId": "06521881660188386515"
     },
     "user_tz": -120
    },
    "id": "FWeF4XTmE-Hn",
    "jupyter": {
     "outputs_hidden": true
    },
    "outputId": "4f44d77b-65bd-4420-878c-dc0d70ec9543"
   },
   "outputs": [
    {
     "name": "stdout",
     "output_type": "stream",
     "text": [
      "Model: \"resnet50\"\n",
      "__________________________________________________________________________________________________\n",
      " Layer (type)                   Output Shape         Param #     Connected to                     \n",
      "==================================================================================================\n",
      " input_1 (InputLayer)           [(None, 32, 32, 3)]  0           []                               \n",
      "                                                                                                  \n",
      " conv1_pad (ZeroPadding2D)      (None, 38, 38, 3)    0           ['input_1[0][0]']                \n",
      "                                                                                                  \n",
      " conv1_conv (Conv2D)            (None, 16, 16, 64)   9472        ['conv1_pad[0][0]']              \n",
      "                                                                                                  \n",
      " conv1_bn (BatchNormalization)  (None, 16, 16, 64)   256         ['conv1_conv[0][0]']             \n",
      "                                                                                                  \n",
      " conv1_relu (Activation)        (None, 16, 16, 64)   0           ['conv1_bn[0][0]']               \n",
      "                                                                                                  \n",
      " pool1_pad (ZeroPadding2D)      (None, 18, 18, 64)   0           ['conv1_relu[0][0]']             \n",
      "                                                                                                  \n",
      " pool1_pool (MaxPooling2D)      (None, 8, 8, 64)     0           ['pool1_pad[0][0]']              \n",
      "                                                                                                  \n",
      " conv2_block1_1_conv (Conv2D)   (None, 8, 8, 64)     4160        ['pool1_pool[0][0]']             \n",
      "                                                                                                  \n",
      " conv2_block1_1_bn (BatchNormal  (None, 8, 8, 64)    256         ['conv2_block1_1_conv[0][0]']    \n",
      " ization)                                                                                         \n",
      "                                                                                                  \n",
      " conv2_block1_1_relu (Activatio  (None, 8, 8, 64)    0           ['conv2_block1_1_bn[0][0]']      \n",
      " n)                                                                                               \n",
      "                                                                                                  \n",
      " conv2_block1_2_conv (Conv2D)   (None, 8, 8, 64)     36928       ['conv2_block1_1_relu[0][0]']    \n",
      "                                                                                                  \n",
      " conv2_block1_2_bn (BatchNormal  (None, 8, 8, 64)    256         ['conv2_block1_2_conv[0][0]']    \n",
      " ization)                                                                                         \n",
      "                                                                                                  \n",
      " conv2_block1_2_relu (Activatio  (None, 8, 8, 64)    0           ['conv2_block1_2_bn[0][0]']      \n",
      " n)                                                                                               \n",
      "                                                                                                  \n",
      " conv2_block1_0_conv (Conv2D)   (None, 8, 8, 256)    16640       ['pool1_pool[0][0]']             \n",
      "                                                                                                  \n",
      " conv2_block1_3_conv (Conv2D)   (None, 8, 8, 256)    16640       ['conv2_block1_2_relu[0][0]']    \n",
      "                                                                                                  \n",
      " conv2_block1_0_bn (BatchNormal  (None, 8, 8, 256)   1024        ['conv2_block1_0_conv[0][0]']    \n",
      " ization)                                                                                         \n",
      "                                                                                                  \n",
      " conv2_block1_3_bn (BatchNormal  (None, 8, 8, 256)   1024        ['conv2_block1_3_conv[0][0]']    \n",
      " ization)                                                                                         \n",
      "                                                                                                  \n",
      " conv2_block1_add (Add)         (None, 8, 8, 256)    0           ['conv2_block1_0_bn[0][0]',      \n",
      "                                                                  'conv2_block1_3_bn[0][0]']      \n",
      "                                                                                                  \n",
      " conv2_block1_out (Activation)  (None, 8, 8, 256)    0           ['conv2_block1_add[0][0]']       \n",
      "                                                                                                  \n",
      " conv2_block2_1_conv (Conv2D)   (None, 8, 8, 64)     16448       ['conv2_block1_out[0][0]']       \n",
      "                                                                                                  \n",
      " conv2_block2_1_bn (BatchNormal  (None, 8, 8, 64)    256         ['conv2_block2_1_conv[0][0]']    \n",
      " ization)                                                                                         \n",
      "                                                                                                  \n",
      " conv2_block2_1_relu (Activatio  (None, 8, 8, 64)    0           ['conv2_block2_1_bn[0][0]']      \n",
      " n)                                                                                               \n",
      "                                                                                                  \n",
      " conv2_block2_2_conv (Conv2D)   (None, 8, 8, 64)     36928       ['conv2_block2_1_relu[0][0]']    \n",
      "                                                                                                  \n",
      " conv2_block2_2_bn (BatchNormal  (None, 8, 8, 64)    256         ['conv2_block2_2_conv[0][0]']    \n",
      " ization)                                                                                         \n",
      "                                                                                                  \n",
      " conv2_block2_2_relu (Activatio  (None, 8, 8, 64)    0           ['conv2_block2_2_bn[0][0]']      \n",
      " n)                                                                                               \n",
      "                                                                                                  \n",
      " conv2_block2_3_conv (Conv2D)   (None, 8, 8, 256)    16640       ['conv2_block2_2_relu[0][0]']    \n",
      "                                                                                                  \n",
      " conv2_block2_3_bn (BatchNormal  (None, 8, 8, 256)   1024        ['conv2_block2_3_conv[0][0]']    \n",
      " ization)                                                                                         \n",
      "                                                                                                  \n",
      " conv2_block2_add (Add)         (None, 8, 8, 256)    0           ['conv2_block1_out[0][0]',       \n",
      "                                                                  'conv2_block2_3_bn[0][0]']      \n",
      "                                                                                                  \n",
      " conv2_block2_out (Activation)  (None, 8, 8, 256)    0           ['conv2_block2_add[0][0]']       \n",
      "                                                                                                  \n",
      " conv2_block3_1_conv (Conv2D)   (None, 8, 8, 64)     16448       ['conv2_block2_out[0][0]']       \n",
      "                                                                                                  \n",
      " conv2_block3_1_bn (BatchNormal  (None, 8, 8, 64)    256         ['conv2_block3_1_conv[0][0]']    \n",
      " ization)                                                                                         \n",
      "                                                                                                  \n",
      " conv2_block3_1_relu (Activatio  (None, 8, 8, 64)    0           ['conv2_block3_1_bn[0][0]']      \n",
      " n)                                                                                               \n",
      "                                                                                                  \n",
      " conv2_block3_2_conv (Conv2D)   (None, 8, 8, 64)     36928       ['conv2_block3_1_relu[0][0]']    \n",
      "                                                                                                  \n",
      " conv2_block3_2_bn (BatchNormal  (None, 8, 8, 64)    256         ['conv2_block3_2_conv[0][0]']    \n",
      " ization)                                                                                         \n",
      "                                                                                                  \n",
      " conv2_block3_2_relu (Activatio  (None, 8, 8, 64)    0           ['conv2_block3_2_bn[0][0]']      \n",
      " n)                                                                                               \n",
      "                                                                                                  \n",
      " conv2_block3_3_conv (Conv2D)   (None, 8, 8, 256)    16640       ['conv2_block3_2_relu[0][0]']    \n",
      "                                                                                                  \n",
      " conv2_block3_3_bn (BatchNormal  (None, 8, 8, 256)   1024        ['conv2_block3_3_conv[0][0]']    \n",
      " ization)                                                                                         \n",
      "                                                                                                  \n",
      " conv2_block3_add (Add)         (None, 8, 8, 256)    0           ['conv2_block2_out[0][0]',       \n",
      "                                                                  'conv2_block3_3_bn[0][0]']      \n",
      "                                                                                                  \n",
      " conv2_block3_out (Activation)  (None, 8, 8, 256)    0           ['conv2_block3_add[0][0]']       \n",
      "                                                                                                  \n",
      " conv3_block1_1_conv (Conv2D)   (None, 4, 4, 128)    32896       ['conv2_block3_out[0][0]']       \n",
      "                                                                                                  \n",
      " conv3_block1_1_bn (BatchNormal  (None, 4, 4, 128)   512         ['conv3_block1_1_conv[0][0]']    \n",
      " ization)                                                                                         \n",
      "                                                                                                  \n",
      " conv3_block1_1_relu (Activatio  (None, 4, 4, 128)   0           ['conv3_block1_1_bn[0][0]']      \n",
      " n)                                                                                               \n",
      "                                                                                                  \n",
      " conv3_block1_2_conv (Conv2D)   (None, 4, 4, 128)    147584      ['conv3_block1_1_relu[0][0]']    \n",
      "                                                                                                  \n",
      " conv3_block1_2_bn (BatchNormal  (None, 4, 4, 128)   512         ['conv3_block1_2_conv[0][0]']    \n",
      " ization)                                                                                         \n",
      "                                                                                                  \n",
      " conv3_block1_2_relu (Activatio  (None, 4, 4, 128)   0           ['conv3_block1_2_bn[0][0]']      \n",
      " n)                                                                                               \n",
      "                                                                                                  \n",
      " conv3_block1_0_conv (Conv2D)   (None, 4, 4, 512)    131584      ['conv2_block3_out[0][0]']       \n",
      "                                                                                                  \n",
      " conv3_block1_3_conv (Conv2D)   (None, 4, 4, 512)    66048       ['conv3_block1_2_relu[0][0]']    \n",
      "                                                                                                  \n",
      " conv3_block1_0_bn (BatchNormal  (None, 4, 4, 512)   2048        ['conv3_block1_0_conv[0][0]']    \n",
      " ization)                                                                                         \n",
      "                                                                                                  \n",
      " conv3_block1_3_bn (BatchNormal  (None, 4, 4, 512)   2048        ['conv3_block1_3_conv[0][0]']    \n",
      " ization)                                                                                         \n",
      "                                                                                                  \n",
      " conv3_block1_add (Add)         (None, 4, 4, 512)    0           ['conv3_block1_0_bn[0][0]',      \n",
      "                                                                  'conv3_block1_3_bn[0][0]']      \n",
      "                                                                                                  \n",
      " conv3_block1_out (Activation)  (None, 4, 4, 512)    0           ['conv3_block1_add[0][0]']       \n",
      "                                                                                                  \n",
      " conv3_block2_1_conv (Conv2D)   (None, 4, 4, 128)    65664       ['conv3_block1_out[0][0]']       \n",
      "                                                                                                  \n",
      " conv3_block2_1_bn (BatchNormal  (None, 4, 4, 128)   512         ['conv3_block2_1_conv[0][0]']    \n",
      " ization)                                                                                         \n",
      "                                                                                                  \n",
      " conv3_block2_1_relu (Activatio  (None, 4, 4, 128)   0           ['conv3_block2_1_bn[0][0]']      \n",
      " n)                                                                                               \n",
      "                                                                                                  \n",
      " conv3_block2_2_conv (Conv2D)   (None, 4, 4, 128)    147584      ['conv3_block2_1_relu[0][0]']    \n",
      "                                                                                                  \n",
      " conv3_block2_2_bn (BatchNormal  (None, 4, 4, 128)   512         ['conv3_block2_2_conv[0][0]']    \n",
      " ization)                                                                                         \n",
      "                                                                                                  \n",
      " conv3_block2_2_relu (Activatio  (None, 4, 4, 128)   0           ['conv3_block2_2_bn[0][0]']      \n",
      " n)                                                                                               \n",
      "                                                                                                  \n",
      " conv3_block2_3_conv (Conv2D)   (None, 4, 4, 512)    66048       ['conv3_block2_2_relu[0][0]']    \n",
      "                                                                                                  \n",
      " conv3_block2_3_bn (BatchNormal  (None, 4, 4, 512)   2048        ['conv3_block2_3_conv[0][0]']    \n",
      " ization)                                                                                         \n",
      "                                                                                                  \n",
      " conv3_block2_add (Add)         (None, 4, 4, 512)    0           ['conv3_block1_out[0][0]',       \n",
      "                                                                  'conv3_block2_3_bn[0][0]']      \n",
      "                                                                                                  \n",
      " conv3_block2_out (Activation)  (None, 4, 4, 512)    0           ['conv3_block2_add[0][0]']       \n",
      "                                                                                                  \n",
      " conv3_block3_1_conv (Conv2D)   (None, 4, 4, 128)    65664       ['conv3_block2_out[0][0]']       \n",
      "                                                                                                  \n",
      " conv3_block3_1_bn (BatchNormal  (None, 4, 4, 128)   512         ['conv3_block3_1_conv[0][0]']    \n",
      " ization)                                                                                         \n",
      "                                                                                                  \n",
      " conv3_block3_1_relu (Activatio  (None, 4, 4, 128)   0           ['conv3_block3_1_bn[0][0]']      \n",
      " n)                                                                                               \n",
      "                                                                                                  \n",
      " conv3_block3_2_conv (Conv2D)   (None, 4, 4, 128)    147584      ['conv3_block3_1_relu[0][0]']    \n",
      "                                                                                                  \n",
      " conv3_block3_2_bn (BatchNormal  (None, 4, 4, 128)   512         ['conv3_block3_2_conv[0][0]']    \n",
      " ization)                                                                                         \n",
      "                                                                                                  \n",
      " conv3_block3_2_relu (Activatio  (None, 4, 4, 128)   0           ['conv3_block3_2_bn[0][0]']      \n",
      " n)                                                                                               \n",
      "                                                                                                  \n",
      " conv3_block3_3_conv (Conv2D)   (None, 4, 4, 512)    66048       ['conv3_block3_2_relu[0][0]']    \n",
      "                                                                                                  \n",
      " conv3_block3_3_bn (BatchNormal  (None, 4, 4, 512)   2048        ['conv3_block3_3_conv[0][0]']    \n",
      " ization)                                                                                         \n",
      "                                                                                                  \n",
      " conv3_block3_add (Add)         (None, 4, 4, 512)    0           ['conv3_block2_out[0][0]',       \n",
      "                                                                  'conv3_block3_3_bn[0][0]']      \n",
      "                                                                                                  \n",
      " conv3_block3_out (Activation)  (None, 4, 4, 512)    0           ['conv3_block3_add[0][0]']       \n",
      "                                                                                                  \n",
      " conv3_block4_1_conv (Conv2D)   (None, 4, 4, 128)    65664       ['conv3_block3_out[0][0]']       \n",
      "                                                                                                  \n",
      " conv3_block4_1_bn (BatchNormal  (None, 4, 4, 128)   512         ['conv3_block4_1_conv[0][0]']    \n",
      " ization)                                                                                         \n",
      "                                                                                                  \n",
      " conv3_block4_1_relu (Activatio  (None, 4, 4, 128)   0           ['conv3_block4_1_bn[0][0]']      \n",
      " n)                                                                                               \n",
      "                                                                                                  \n",
      " conv3_block4_2_conv (Conv2D)   (None, 4, 4, 128)    147584      ['conv3_block4_1_relu[0][0]']    \n",
      "                                                                                                  \n",
      " conv3_block4_2_bn (BatchNormal  (None, 4, 4, 128)   512         ['conv3_block4_2_conv[0][0]']    \n",
      " ization)                                                                                         \n",
      "                                                                                                  \n",
      " conv3_block4_2_relu (Activatio  (None, 4, 4, 128)   0           ['conv3_block4_2_bn[0][0]']      \n",
      " n)                                                                                               \n",
      "                                                                                                  \n",
      " conv3_block4_3_conv (Conv2D)   (None, 4, 4, 512)    66048       ['conv3_block4_2_relu[0][0]']    \n",
      "                                                                                                  \n",
      " conv3_block4_3_bn (BatchNormal  (None, 4, 4, 512)   2048        ['conv3_block4_3_conv[0][0]']    \n",
      " ization)                                                                                         \n",
      "                                                                                                  \n",
      " conv3_block4_add (Add)         (None, 4, 4, 512)    0           ['conv3_block3_out[0][0]',       \n",
      "                                                                  'conv3_block4_3_bn[0][0]']      \n",
      "                                                                                                  \n",
      " conv3_block4_out (Activation)  (None, 4, 4, 512)    0           ['conv3_block4_add[0][0]']       \n",
      "                                                                                                  \n",
      " conv4_block1_1_conv (Conv2D)   (None, 2, 2, 256)    131328      ['conv3_block4_out[0][0]']       \n",
      "                                                                                                  \n",
      " conv4_block1_1_bn (BatchNormal  (None, 2, 2, 256)   1024        ['conv4_block1_1_conv[0][0]']    \n",
      " ization)                                                                                         \n",
      "                                                                                                  \n",
      " conv4_block1_1_relu (Activatio  (None, 2, 2, 256)   0           ['conv4_block1_1_bn[0][0]']      \n",
      " n)                                                                                               \n",
      "                                                                                                  \n",
      " conv4_block1_2_conv (Conv2D)   (None, 2, 2, 256)    590080      ['conv4_block1_1_relu[0][0]']    \n",
      "                                                                                                  \n",
      " conv4_block1_2_bn (BatchNormal  (None, 2, 2, 256)   1024        ['conv4_block1_2_conv[0][0]']    \n",
      " ization)                                                                                         \n",
      "                                                                                                  \n",
      " conv4_block1_2_relu (Activatio  (None, 2, 2, 256)   0           ['conv4_block1_2_bn[0][0]']      \n",
      " n)                                                                                               \n",
      "                                                                                                  \n",
      " conv4_block1_0_conv (Conv2D)   (None, 2, 2, 1024)   525312      ['conv3_block4_out[0][0]']       \n",
      "                                                                                                  \n",
      " conv4_block1_3_conv (Conv2D)   (None, 2, 2, 1024)   263168      ['conv4_block1_2_relu[0][0]']    \n",
      "                                                                                                  \n",
      " conv4_block1_0_bn (BatchNormal  (None, 2, 2, 1024)  4096        ['conv4_block1_0_conv[0][0]']    \n",
      " ization)                                                                                         \n",
      "                                                                                                  \n",
      " conv4_block1_3_bn (BatchNormal  (None, 2, 2, 1024)  4096        ['conv4_block1_3_conv[0][0]']    \n",
      " ization)                                                                                         \n",
      "                                                                                                  \n",
      " conv4_block1_add (Add)         (None, 2, 2, 1024)   0           ['conv4_block1_0_bn[0][0]',      \n",
      "                                                                  'conv4_block1_3_bn[0][0]']      \n",
      "                                                                                                  \n",
      " conv4_block1_out (Activation)  (None, 2, 2, 1024)   0           ['conv4_block1_add[0][0]']       \n",
      "                                                                                                  \n",
      " conv4_block2_1_conv (Conv2D)   (None, 2, 2, 256)    262400      ['conv4_block1_out[0][0]']       \n",
      "                                                                                                  \n",
      " conv4_block2_1_bn (BatchNormal  (None, 2, 2, 256)   1024        ['conv4_block2_1_conv[0][0]']    \n",
      " ization)                                                                                         \n",
      "                                                                                                  \n",
      " conv4_block2_1_relu (Activatio  (None, 2, 2, 256)   0           ['conv4_block2_1_bn[0][0]']      \n",
      " n)                                                                                               \n",
      "                                                                                                  \n",
      " conv4_block2_2_conv (Conv2D)   (None, 2, 2, 256)    590080      ['conv4_block2_1_relu[0][0]']    \n",
      "                                                                                                  \n",
      " conv4_block2_2_bn (BatchNormal  (None, 2, 2, 256)   1024        ['conv4_block2_2_conv[0][0]']    \n",
      " ization)                                                                                         \n",
      "                                                                                                  \n",
      " conv4_block2_2_relu (Activatio  (None, 2, 2, 256)   0           ['conv4_block2_2_bn[0][0]']      \n",
      " n)                                                                                               \n",
      "                                                                                                  \n",
      " conv4_block2_3_conv (Conv2D)   (None, 2, 2, 1024)   263168      ['conv4_block2_2_relu[0][0]']    \n",
      "                                                                                                  \n",
      " conv4_block2_3_bn (BatchNormal  (None, 2, 2, 1024)  4096        ['conv4_block2_3_conv[0][0]']    \n",
      " ization)                                                                                         \n",
      "                                                                                                  \n",
      " conv4_block2_add (Add)         (None, 2, 2, 1024)   0           ['conv4_block1_out[0][0]',       \n",
      "                                                                  'conv4_block2_3_bn[0][0]']      \n",
      "                                                                                                  \n",
      " conv4_block2_out (Activation)  (None, 2, 2, 1024)   0           ['conv4_block2_add[0][0]']       \n",
      "                                                                                                  \n",
      " conv4_block3_1_conv (Conv2D)   (None, 2, 2, 256)    262400      ['conv4_block2_out[0][0]']       \n",
      "                                                                                                  \n",
      " conv4_block3_1_bn (BatchNormal  (None, 2, 2, 256)   1024        ['conv4_block3_1_conv[0][0]']    \n",
      " ization)                                                                                         \n",
      "                                                                                                  \n",
      " conv4_block3_1_relu (Activatio  (None, 2, 2, 256)   0           ['conv4_block3_1_bn[0][0]']      \n",
      " n)                                                                                               \n",
      "                                                                                                  \n",
      " conv4_block3_2_conv (Conv2D)   (None, 2, 2, 256)    590080      ['conv4_block3_1_relu[0][0]']    \n",
      "                                                                                                  \n",
      " conv4_block3_2_bn (BatchNormal  (None, 2, 2, 256)   1024        ['conv4_block3_2_conv[0][0]']    \n",
      " ization)                                                                                         \n",
      "                                                                                                  \n",
      " conv4_block3_2_relu (Activatio  (None, 2, 2, 256)   0           ['conv4_block3_2_bn[0][0]']      \n",
      " n)                                                                                               \n",
      "                                                                                                  \n",
      " conv4_block3_3_conv (Conv2D)   (None, 2, 2, 1024)   263168      ['conv4_block3_2_relu[0][0]']    \n",
      "                                                                                                  \n",
      " conv4_block3_3_bn (BatchNormal  (None, 2, 2, 1024)  4096        ['conv4_block3_3_conv[0][0]']    \n",
      " ization)                                                                                         \n",
      "                                                                                                  \n",
      " conv4_block3_add (Add)         (None, 2, 2, 1024)   0           ['conv4_block2_out[0][0]',       \n",
      "                                                                  'conv4_block3_3_bn[0][0]']      \n",
      "                                                                                                  \n",
      " conv4_block3_out (Activation)  (None, 2, 2, 1024)   0           ['conv4_block3_add[0][0]']       \n",
      "                                                                                                  \n",
      " conv4_block4_1_conv (Conv2D)   (None, 2, 2, 256)    262400      ['conv4_block3_out[0][0]']       \n",
      "                                                                                                  \n",
      " conv4_block4_1_bn (BatchNormal  (None, 2, 2, 256)   1024        ['conv4_block4_1_conv[0][0]']    \n",
      " ization)                                                                                         \n",
      "                                                                                                  \n",
      " conv4_block4_1_relu (Activatio  (None, 2, 2, 256)   0           ['conv4_block4_1_bn[0][0]']      \n",
      " n)                                                                                               \n",
      "                                                                                                  \n",
      " conv4_block4_2_conv (Conv2D)   (None, 2, 2, 256)    590080      ['conv4_block4_1_relu[0][0]']    \n",
      "                                                                                                  \n",
      " conv4_block4_2_bn (BatchNormal  (None, 2, 2, 256)   1024        ['conv4_block4_2_conv[0][0]']    \n",
      " ization)                                                                                         \n",
      "                                                                                                  \n",
      " conv4_block4_2_relu (Activatio  (None, 2, 2, 256)   0           ['conv4_block4_2_bn[0][0]']      \n",
      " n)                                                                                               \n",
      "                                                                                                  \n",
      " conv4_block4_3_conv (Conv2D)   (None, 2, 2, 1024)   263168      ['conv4_block4_2_relu[0][0]']    \n",
      "                                                                                                  \n",
      " conv4_block4_3_bn (BatchNormal  (None, 2, 2, 1024)  4096        ['conv4_block4_3_conv[0][0]']    \n",
      " ization)                                                                                         \n",
      "                                                                                                  \n",
      " conv4_block4_add (Add)         (None, 2, 2, 1024)   0           ['conv4_block3_out[0][0]',       \n",
      "                                                                  'conv4_block4_3_bn[0][0]']      \n",
      "                                                                                                  \n",
      " conv4_block4_out (Activation)  (None, 2, 2, 1024)   0           ['conv4_block4_add[0][0]']       \n",
      "                                                                                                  \n",
      " conv4_block5_1_conv (Conv2D)   (None, 2, 2, 256)    262400      ['conv4_block4_out[0][0]']       \n",
      "                                                                                                  \n",
      " conv4_block5_1_bn (BatchNormal  (None, 2, 2, 256)   1024        ['conv4_block5_1_conv[0][0]']    \n",
      " ization)                                                                                         \n",
      "                                                                                                  \n",
      " conv4_block5_1_relu (Activatio  (None, 2, 2, 256)   0           ['conv4_block5_1_bn[0][0]']      \n",
      " n)                                                                                               \n",
      "                                                                                                  \n",
      " conv4_block5_2_conv (Conv2D)   (None, 2, 2, 256)    590080      ['conv4_block5_1_relu[0][0]']    \n",
      "                                                                                                  \n",
      " conv4_block5_2_bn (BatchNormal  (None, 2, 2, 256)   1024        ['conv4_block5_2_conv[0][0]']    \n",
      " ization)                                                                                         \n",
      "                                                                                                  \n",
      " conv4_block5_2_relu (Activatio  (None, 2, 2, 256)   0           ['conv4_block5_2_bn[0][0]']      \n",
      " n)                                                                                               \n",
      "                                                                                                  \n",
      " conv4_block5_3_conv (Conv2D)   (None, 2, 2, 1024)   263168      ['conv4_block5_2_relu[0][0]']    \n",
      "                                                                                                  \n",
      " conv4_block5_3_bn (BatchNormal  (None, 2, 2, 1024)  4096        ['conv4_block5_3_conv[0][0]']    \n",
      " ization)                                                                                         \n",
      "                                                                                                  \n",
      " conv4_block5_add (Add)         (None, 2, 2, 1024)   0           ['conv4_block4_out[0][0]',       \n",
      "                                                                  'conv4_block5_3_bn[0][0]']      \n",
      "                                                                                                  \n",
      " conv4_block5_out (Activation)  (None, 2, 2, 1024)   0           ['conv4_block5_add[0][0]']       \n",
      "                                                                                                  \n",
      " conv4_block6_1_conv (Conv2D)   (None, 2, 2, 256)    262400      ['conv4_block5_out[0][0]']       \n",
      "                                                                                                  \n",
      " conv4_block6_1_bn (BatchNormal  (None, 2, 2, 256)   1024        ['conv4_block6_1_conv[0][0]']    \n",
      " ization)                                                                                         \n",
      "                                                                                                  \n",
      " conv4_block6_1_relu (Activatio  (None, 2, 2, 256)   0           ['conv4_block6_1_bn[0][0]']      \n",
      " n)                                                                                               \n",
      "                                                                                                  \n",
      " conv4_block6_2_conv (Conv2D)   (None, 2, 2, 256)    590080      ['conv4_block6_1_relu[0][0]']    \n",
      "                                                                                                  \n",
      " conv4_block6_2_bn (BatchNormal  (None, 2, 2, 256)   1024        ['conv4_block6_2_conv[0][0]']    \n",
      " ization)                                                                                         \n",
      "                                                                                                  \n",
      " conv4_block6_2_relu (Activatio  (None, 2, 2, 256)   0           ['conv4_block6_2_bn[0][0]']      \n",
      " n)                                                                                               \n",
      "                                                                                                  \n",
      " conv4_block6_3_conv (Conv2D)   (None, 2, 2, 1024)   263168      ['conv4_block6_2_relu[0][0]']    \n",
      "                                                                                                  \n",
      " conv4_block6_3_bn (BatchNormal  (None, 2, 2, 1024)  4096        ['conv4_block6_3_conv[0][0]']    \n",
      " ization)                                                                                         \n",
      "                                                                                                  \n",
      " conv4_block6_add (Add)         (None, 2, 2, 1024)   0           ['conv4_block5_out[0][0]',       \n",
      "                                                                  'conv4_block6_3_bn[0][0]']      \n",
      "                                                                                                  \n",
      " conv4_block6_out (Activation)  (None, 2, 2, 1024)   0           ['conv4_block6_add[0][0]']       \n",
      "                                                                                                  \n",
      " conv5_block1_1_conv (Conv2D)   (None, 1, 1, 512)    524800      ['conv4_block6_out[0][0]']       \n",
      "                                                                                                  \n",
      " conv5_block1_1_bn (BatchNormal  (None, 1, 1, 512)   2048        ['conv5_block1_1_conv[0][0]']    \n",
      " ization)                                                                                         \n",
      "                                                                                                  \n",
      " conv5_block1_1_relu (Activatio  (None, 1, 1, 512)   0           ['conv5_block1_1_bn[0][0]']      \n",
      " n)                                                                                               \n",
      "                                                                                                  \n",
      " conv5_block1_2_conv (Conv2D)   (None, 1, 1, 512)    2359808     ['conv5_block1_1_relu[0][0]']    \n",
      "                                                                                                  \n",
      " conv5_block1_2_bn (BatchNormal  (None, 1, 1, 512)   2048        ['conv5_block1_2_conv[0][0]']    \n",
      " ization)                                                                                         \n",
      "                                                                                                  \n",
      " conv5_block1_2_relu (Activatio  (None, 1, 1, 512)   0           ['conv5_block1_2_bn[0][0]']      \n",
      " n)                                                                                               \n",
      "                                                                                                  \n",
      " conv5_block1_0_conv (Conv2D)   (None, 1, 1, 2048)   2099200     ['conv4_block6_out[0][0]']       \n",
      "                                                                                                  \n",
      " conv5_block1_3_conv (Conv2D)   (None, 1, 1, 2048)   1050624     ['conv5_block1_2_relu[0][0]']    \n",
      "                                                                                                  \n",
      " conv5_block1_0_bn (BatchNormal  (None, 1, 1, 2048)  8192        ['conv5_block1_0_conv[0][0]']    \n",
      " ization)                                                                                         \n",
      "                                                                                                  \n",
      " conv5_block1_3_bn (BatchNormal  (None, 1, 1, 2048)  8192        ['conv5_block1_3_conv[0][0]']    \n",
      " ization)                                                                                         \n",
      "                                                                                                  \n",
      " conv5_block1_add (Add)         (None, 1, 1, 2048)   0           ['conv5_block1_0_bn[0][0]',      \n",
      "                                                                  'conv5_block1_3_bn[0][0]']      \n",
      "                                                                                                  \n",
      " conv5_block1_out (Activation)  (None, 1, 1, 2048)   0           ['conv5_block1_add[0][0]']       \n",
      "                                                                                                  \n",
      " conv5_block2_1_conv (Conv2D)   (None, 1, 1, 512)    1049088     ['conv5_block1_out[0][0]']       \n",
      "                                                                                                  \n",
      " conv5_block2_1_bn (BatchNormal  (None, 1, 1, 512)   2048        ['conv5_block2_1_conv[0][0]']    \n",
      " ization)                                                                                         \n",
      "                                                                                                  \n",
      " conv5_block2_1_relu (Activatio  (None, 1, 1, 512)   0           ['conv5_block2_1_bn[0][0]']      \n",
      " n)                                                                                               \n",
      "                                                                                                  \n",
      " conv5_block2_2_conv (Conv2D)   (None, 1, 1, 512)    2359808     ['conv5_block2_1_relu[0][0]']    \n",
      "                                                                                                  \n",
      " conv5_block2_2_bn (BatchNormal  (None, 1, 1, 512)   2048        ['conv5_block2_2_conv[0][0]']    \n",
      " ization)                                                                                         \n",
      "                                                                                                  \n",
      " conv5_block2_2_relu (Activatio  (None, 1, 1, 512)   0           ['conv5_block2_2_bn[0][0]']      \n",
      " n)                                                                                               \n",
      "                                                                                                  \n",
      " conv5_block2_3_conv (Conv2D)   (None, 1, 1, 2048)   1050624     ['conv5_block2_2_relu[0][0]']    \n",
      "                                                                                                  \n",
      " conv5_block2_3_bn (BatchNormal  (None, 1, 1, 2048)  8192        ['conv5_block2_3_conv[0][0]']    \n",
      " ization)                                                                                         \n",
      "                                                                                                  \n",
      " conv5_block2_add (Add)         (None, 1, 1, 2048)   0           ['conv5_block1_out[0][0]',       \n",
      "                                                                  'conv5_block2_3_bn[0][0]']      \n",
      "                                                                                                  \n",
      " conv5_block2_out (Activation)  (None, 1, 1, 2048)   0           ['conv5_block2_add[0][0]']       \n",
      "                                                                                                  \n",
      " conv5_block3_1_conv (Conv2D)   (None, 1, 1, 512)    1049088     ['conv5_block2_out[0][0]']       \n",
      "                                                                                                  \n",
      " conv5_block3_1_bn (BatchNormal  (None, 1, 1, 512)   2048        ['conv5_block3_1_conv[0][0]']    \n",
      " ization)                                                                                         \n",
      "                                                                                                  \n",
      " conv5_block3_1_relu (Activatio  (None, 1, 1, 512)   0           ['conv5_block3_1_bn[0][0]']      \n",
      " n)                                                                                               \n",
      "                                                                                                  \n",
      " conv5_block3_2_conv (Conv2D)   (None, 1, 1, 512)    2359808     ['conv5_block3_1_relu[0][0]']    \n",
      "                                                                                                  \n",
      " conv5_block3_2_bn (BatchNormal  (None, 1, 1, 512)   2048        ['conv5_block3_2_conv[0][0]']    \n",
      " ization)                                                                                         \n",
      "                                                                                                  \n",
      " conv5_block3_2_relu (Activatio  (None, 1, 1, 512)   0           ['conv5_block3_2_bn[0][0]']      \n",
      " n)                                                                                               \n",
      "                                                                                                  \n",
      " conv5_block3_3_conv (Conv2D)   (None, 1, 1, 2048)   1050624     ['conv5_block3_2_relu[0][0]']    \n",
      "                                                                                                  \n",
      " conv5_block3_3_bn (BatchNormal  (None, 1, 1, 2048)  8192        ['conv5_block3_3_conv[0][0]']    \n",
      " ization)                                                                                         \n",
      "                                                                                                  \n",
      " conv5_block3_add (Add)         (None, 1, 1, 2048)   0           ['conv5_block2_out[0][0]',       \n",
      "                                                                  'conv5_block3_3_bn[0][0]']      \n",
      "                                                                                                  \n",
      " conv5_block3_out (Activation)  (None, 1, 1, 2048)   0           ['conv5_block3_add[0][0]']       \n",
      "                                                                                                  \n",
      "==================================================================================================\n",
      "Total params: 23,587,712\n",
      "Trainable params: 23,534,592\n",
      "Non-trainable params: 53,120\n",
      "__________________________________________________________________________________________________\n"
     ]
    }
   ],
   "source": [
    "conv_base.summary()"
   ]
  },
  {
   "cell_type": "code",
   "execution_count": 29,
   "metadata": {
    "executionInfo": {
     "elapsed": 1091,
     "status": "ok",
     "timestamp": 1650469806195,
     "user": {
      "displayName": "Ana Blasi Sanchiz",
      "userId": "06521881660188386515"
     },
     "user_tz": -120
    },
    "id": "HYCrrR-EE-H0"
   },
   "outputs": [],
   "source": [
    "model = models.Sequential()\n",
    "#model.add(BatchNormalization(input_shape=(82, 82,3)))\n",
    "model.add(conv_base)\n",
    "model.add(layers.Flatten())\n",
    "model.add(layers.Dense(256, activation='relu'))\n",
    "model.add(layers.Dense(17, activation='sigmoid'))"
   ]
  },
  {
   "cell_type": "markdown",
   "metadata": {
    "id": "ccaJb_CKE-H2"
   },
   "source": [
    "This is what our model looks like now:"
   ]
  },
  {
   "cell_type": "code",
   "execution_count": 16,
   "metadata": {
    "colab": {
     "base_uri": "https://localhost:8080/"
    },
    "executionInfo": {
     "elapsed": 365,
     "status": "ok",
     "timestamp": 1650469809200,
     "user": {
      "displayName": "Ana Blasi Sanchiz",
      "userId": "06521881660188386515"
     },
     "user_tz": -120
    },
    "id": "XLrAHB6uE-H3",
    "outputId": "0588b6d3-98ff-4f4a-c47d-70af318cc920"
   },
   "outputs": [
    {
     "name": "stdout",
     "output_type": "stream",
     "text": [
      "Model: \"sequential_1\"\n",
      "_________________________________________________________________\n",
      " Layer (type)                Output Shape              Param #   \n",
      "=================================================================\n",
      " resnet50 (Functional)       (None, 1, 1, 2048)        23587712  \n",
      "                                                                 \n",
      " flatten_1 (Flatten)         (None, 2048)              0         \n",
      "                                                                 \n",
      " dense_2 (Dense)             (None, 256)               524544    \n",
      "                                                                 \n",
      " dense_3 (Dense)             (None, 17)                4369      \n",
      "                                                                 \n",
      "=================================================================\n",
      "Total params: 24,116,625\n",
      "Trainable params: 24,063,505\n",
      "Non-trainable params: 53,120\n",
      "_________________________________________________________________\n"
     ]
    }
   ],
   "source": [
    "model.summary()"
   ]
  },
  {
   "cell_type": "code",
   "execution_count": 17,
   "metadata": {
    "colab": {
     "base_uri": "https://localhost:8080/"
    },
    "executionInfo": {
     "elapsed": 193,
     "status": "ok",
     "timestamp": 1650469895325,
     "user": {
      "displayName": "Ana Blasi Sanchiz",
      "userId": "06521881660188386515"
     },
     "user_tz": -120
    },
    "id": "62oFeUXLE-H5",
    "outputId": "a077c2c3-3d1d-434a-be9e-71940c0919a9"
   },
   "outputs": [
    {
     "name": "stdout",
     "output_type": "stream",
     "text": [
      "This is the number of trainable weights before freezing the conv base: 216\n"
     ]
    }
   ],
   "source": [
    "print('This is the number of trainable weights '\n",
    "      'before freezing the conv base:', len(model.trainable_weights))"
   ]
  },
  {
   "cell_type": "code",
   "execution_count": 19,
   "metadata": {},
   "outputs": [],
   "source": [
    "conv_base.trainable = False"
   ]
  },
  {
   "cell_type": "code",
   "execution_count": 20,
   "metadata": {
    "colab": {
     "base_uri": "https://localhost:8080/"
    },
    "executionInfo": {
     "elapsed": 5,
     "status": "ok",
     "timestamp": 1650469903696,
     "user": {
      "displayName": "Ana Blasi Sanchiz",
      "userId": "06521881660188386515"
     },
     "user_tz": -120
    },
    "id": "qbVIaOipE-H9",
    "outputId": "ed6c53b8-1779-40a5-eb3f-f7164c4f5b83"
   },
   "outputs": [
    {
     "name": "stdout",
     "output_type": "stream",
     "text": [
      "This is the number of trainable weights after freezing the conv base: 4\n"
     ]
    }
   ],
   "source": [
    "print('This is the number of trainable weights '\n",
    "      'after freezing the conv base:', len(model.trainable_weights))"
   ]
  },
  {
   "cell_type": "markdown",
   "metadata": {},
   "source": [
    "# Entrenar el modelo con nuestro Dataset"
   ]
  },
  {
   "cell_type": "markdown",
   "metadata": {},
   "source": [
    "Se ha definido la variable callbacks para definir el Early Stopping y para que guarde los weights."
   ]
  },
  {
   "cell_type": "code",
   "execution_count": 22,
   "metadata": {},
   "outputs": [],
   "source": [
    "history = History()\n",
    "callbacks = [history, \n",
    "             EarlyStopping(monitor='val_loss', patience=3, verbose=1, min_delta=1e-4),\n",
    "             ModelCheckpoint(filepath='../data/weights.best.hdf5', verbose=1, save_best_only=True, \n",
    "                             save_weights_only=True, mode='auto')]"
   ]
  },
  {
   "cell_type": "markdown",
   "metadata": {},
   "source": [
    "Ahora, es el momento de entrenar el modelo. Se ha utilizado el optamizer de Adam y al final, nos hemos quedado con un LR de 1e-2"
   ]
  },
  {
   "cell_type": "code",
   "execution_count": 30,
   "metadata": {},
   "outputs": [
    {
     "name": "stdout",
     "output_type": "stream",
     "text": [
      "Epoch 1/10\n"
     ]
    },
    {
     "name": "stderr",
     "output_type": "stream",
     "text": [
      "2022-04-21 18:04:31.350457: W tensorflow/core/framework/cpu_allocator_impl.cc:82] Allocation of 2351571072 exceeds 10% of free system memory.\n"
     ]
    },
    {
     "name": "stdout",
     "output_type": "stream",
     "text": [
      "228/228 [==============================] - ETA: 0s - loss: 0.1498 - accuracy: 0.7057\n",
      "Epoch 1: val_loss did not improve from 0.24412\n",
      "228/228 [==============================] - 576s 2s/step - loss: 0.1498 - accuracy: 0.7057 - val_loss: 0.5232 - val_accuracy: 0.0060\n",
      "Epoch 2/10\n",
      "228/228 [==============================] - ETA: 0s - loss: 0.1083 - accuracy: 0.7216\n",
      "Epoch 2: val_loss did not improve from 0.24412\n",
      "228/228 [==============================] - 562s 2s/step - loss: 0.1083 - accuracy: 0.7216 - val_loss: 0.5391 - val_accuracy: 0.0587\n",
      "Epoch 3/10\n",
      "228/228 [==============================] - ETA: 0s - loss: 0.1250 - accuracy: 0.7008\n",
      "Epoch 3: val_loss did not improve from 0.24412\n",
      "228/228 [==============================] - 563s 2s/step - loss: 0.1250 - accuracy: 0.7008 - val_loss: 0.3803 - val_accuracy: 0.6249\n",
      "Epoch 4/10\n",
      "228/228 [==============================] - ETA: 0s - loss: 0.1063 - accuracy: 0.6958\n",
      "Epoch 4: val_loss improved from 0.24412 to 0.23743, saving model to /home/ana_blasi/notebooks/PRACTICA_IMAGE/planet-understanding-the-amazon-from-space/weights.best.hdf5\n",
      "228/228 [==============================] - 561s 2s/step - loss: 0.1063 - accuracy: 0.6958 - val_loss: 0.2374 - val_accuracy: 0.6779\n",
      "Epoch 5/10\n",
      "228/228 [==============================] - ETA: 0s - loss: 0.0947 - accuracy: 0.6974\n",
      "Epoch 5: val_loss improved from 0.23743 to 0.15421, saving model to /home/ana_blasi/notebooks/PRACTICA_IMAGE/planet-understanding-the-amazon-from-space/weights.best.hdf5\n",
      "228/228 [==============================] - 559s 2s/step - loss: 0.0947 - accuracy: 0.6974 - val_loss: 0.1542 - val_accuracy: 0.6416\n",
      "Epoch 6/10\n",
      "228/228 [==============================] - ETA: 0s - loss: 0.0846 - accuracy: 0.6816\n",
      "Epoch 6: val_loss improved from 0.15421 to 0.13340, saving model to /home/ana_blasi/notebooks/PRACTICA_IMAGE/planet-understanding-the-amazon-from-space/weights.best.hdf5\n",
      "228/228 [==============================] - 562s 2s/step - loss: 0.0846 - accuracy: 0.6816 - val_loss: 0.1334 - val_accuracy: 0.6151\n",
      "Epoch 7/10\n",
      "228/228 [==============================] - ETA: 0s - loss: 0.0760 - accuracy: 0.6684\n",
      "Epoch 7: val_loss did not improve from 0.13340\n",
      "228/228 [==============================] - 557s 2s/step - loss: 0.0760 - accuracy: 0.6684 - val_loss: 0.2238 - val_accuracy: 0.7232\n",
      "Epoch 8/10\n",
      "228/228 [==============================] - ETA: 0s - loss: 0.0679 - accuracy: 0.6771\n",
      "Epoch 8: val_loss did not improve from 0.13340\n",
      "228/228 [==============================] - 561s 2s/step - loss: 0.0679 - accuracy: 0.6771 - val_loss: 0.1894 - val_accuracy: 0.6366\n",
      "Epoch 9/10\n",
      "228/228 [==============================] - ETA: 0s - loss: 0.0572 - accuracy: 0.6619\n",
      "Epoch 9: val_loss did not improve from 0.13340\n",
      "228/228 [==============================] - 557s 2s/step - loss: 0.0572 - accuracy: 0.6619 - val_loss: 0.1945 - val_accuracy: 0.5456\n",
      "Epoch 9: early stopping\n"
     ]
    },
    {
     "data": {
      "text/plain": [
       "<keras.callbacks.History at 0x7fe17ef02610>"
      ]
     },
     "execution_count": 30,
     "metadata": {},
     "output_type": "execute_result"
    }
   ],
   "source": [
    "model.compile(loss='binary_crossentropy', # We NEED binary here, since categorical_crossentropy l1 norms the output before calculating loss.\n",
    "              optimizer=optimizers.Adam(lr=2e-5),\n",
    "              metrics=['accuracy'])\n",
    "              \n",
    "model.fit(x_train, y_train,\n",
    "          batch_size=128,\n",
    "          epochs=10,\n",
    "          verbose=1,\n",
    "          validation_data=(x_val, y_val),\n",
    "          callbacks = callbacks)"
   ]
  },
  {
   "cell_type": "code",
   "execution_count": 32,
   "metadata": {},
   "outputs": [],
   "source": [
    "from matplotlib import pyplot as plt"
   ]
  },
  {
   "cell_type": "code",
   "execution_count": 36,
   "metadata": {
    "id": "d-DCSYIYE-IE",
    "outputId": "e8a18965-f877-4c6e-bb0e-c3bc52d910f7"
   },
   "outputs": [
    {
     "data": {
      "image/png": "[encoded data removed]",
      "text/plain": [
       "<Figure size 432x288 with 1 Axes>"
      ]
     },
     "metadata": {
      "needs_background": "light"
     },
     "output_type": "display_data"
    },
    {
     "data": {
      "image/png": "[encoded data removed]",
      "text/plain": [
       "<Figure size 432x288 with 1 Axes>"
      ]
     },
     "metadata": {
      "needs_background": "light"
     },
     "output_type": "display_data"
    }
   ],
   "source": [
    "acc = history.history['accuracy']\n",
    "val_acc = history.history['val_accuracy']\n",
    "loss = history.history['loss']\n",
    "val_loss = history.history['val_loss']\n",
    "\n",
    "epochs = range(len(acc))\n",
    "\n",
    "plt.plot(epochs, acc, 'bo', label='Training acc')\n",
    "plt.plot(epochs, val_acc, 'b', label='Validation acc')\n",
    "plt.title('Training and validation accuracy')\n",
    "plt.legend()\n",
    "\n",
    "plt.figure()\n",
    "\n",
    "plt.plot(epochs, loss, 'bo', label='Training loss')\n",
    "plt.plot(epochs, val_loss, 'b', label='Validation loss')\n",
    "plt.title('Training and validation loss')\n",
    "plt.legend()\n",
    "\n",
    "plt.show()"
   ]
  },
  {
   "cell_type": "markdown",
   "metadata": {},
   "source": [
    "# Evaluación:"
   ]
  },
  {
   "cell_type": "code",
   "execution_count": 37,
   "metadata": {
    "id": "98DxQlFLE-IX",
    "outputId": "de3ab007-e8df-40db-bac6-abda0d94f38f"
   },
   "outputs": [
    {
     "name": "stdout",
     "output_type": "stream",
     "text": [
      "127/127 - 14s - loss: 0.1945 - accuracy: 0.5482 - 14s/epoch - 109ms/step\n",
      "test acc: 0.5481719374656677\n"
     ]
    }
   ],
   "source": [
    "test_loss, test_acc = model.evaluate(x_test, y_test, verbose=2)\n",
    "print('test acc:', test_acc)"
   ]
  },
  {
   "cell_type": "markdown",
   "metadata": {
    "id": "V_yFJRLqFM1c"
   },
   "source": [
    "# Entrenar el modelo con size (32,32)"
   ]
  },
  {
   "cell_type": "code",
   "execution_count": null,
   "metadata": {},
   "outputs": [],
   "source": [
    "with open('../data/x_train_32.npy', 'rb') as f:\n",
    "    x_train = np.load(f)\n",
    "with open('../data/y_train_32.npy', 'rb') as f:\n",
    "    y_train = np.load(f)"
   ]
  },
  {
   "cell_type": "code",
   "execution_count": null,
   "metadata": {},
   "outputs": [],
   "source": [
    "history = History()\n",
    "callbacks = [history, \n",
    "             EarlyStopping(monitor='val_loss', patience=3, verbose=1, min_delta=1e-4),\n",
    "             ModelCheckpoint(filepath='../data/weights32.best.hdf5', verbose=1, save_best_only=True, \n",
    "                             save_weights_only=True, mode='auto')]"
   ]
  },
  {
   "cell_type": "code",
   "execution_count": null,
   "metadata": {},
   "outputs": [],
   "source": [
    "conv_base = resnet.ResNet50(weights='imagenet',\n",
    "                  include_top=False,\n",
    "                  input_shape=(32, 32, 3))"
   ]
  },
  {
   "cell_type": "code",
   "execution_count": null,
   "metadata": {},
   "outputs": [],
   "source": [
    "model2 = models.Sequential()\n",
    "#model.add(BatchNormalization(input_shape=(82, 82,3)))\n",
    "model2.add(conv_base)\n",
    "model2.add(layers.Flatten())\n",
    "model2.add(layers.Dense(256, activation='relu'))\n",
    "model2.add(layers.Dense(17, activation='sigmoid'))"
   ]
  },
  {
   "cell_type": "code",
   "execution_count": null,
   "metadata": {},
   "outputs": [],
   "source": [
    "model2.compile(loss='binary_crossentropy',\n",
    "              optimizer='adam',\n",
    "              metrics=['accuracy'])\n",
    "              \n",
    "model2.fit(x_train, y_train,\n",
    "          batch_size=128,\n",
    "          epochs=10,\n",
    "          verbose=1,\n",
    "          validation_data=(x_val, y_val),\n",
    "          callbacks = callbacks)"
   ]
  },
  {
   "cell_type": "code",
   "execution_count": null,
   "metadata": {},
   "outputs": [],
   "source": [
    "test_loss, test_acc = model2.evaluate(x_test, y_test, verbose=2)\n",
    "print('test acc:', test_acc)"
   ]
  },
  {
   "cell_type": "markdown",
   "metadata": {},
   "source": [
    "# CONCLUSIONES:"
   ]
  },
  {
   "cell_type": "code",
   "execution_count": null,
   "metadata": {},
   "outputs": [],
   "source": [
    "Como conclusiones,"
   ]
  }
 ],
 "metadata": {
  "colab": {
   "collapsed_sections": [],
   "name": "Copia de 9_IMAGE_Pretrained-convnet.ipynb",
   "version": ""
  },
  "kernelspec": {
   "display_name": "tfm",
   "language": "python",
   "name": "tfm"
  },
  "language_info": {
   "codemirror_mode": {
    "name": "ipython",
    "version": 3
   },
   "file_extension": ".py",
   "mimetype": "text/x-python",
   "name": "python",
   "nbconvert_exporter": "python",
   "pygments_lexer": "ipython3",
   "version": "3.9.7"
  }
 },
 "nbformat": 4,
 "nbformat_minor": 4
}
